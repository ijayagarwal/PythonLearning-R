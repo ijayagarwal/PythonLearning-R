{
  "nbformat": 4,
  "nbformat_minor": 0,
  "metadata": {
    "colab": {
      "provenance": []
    },
    "kernelspec": {
      "name": "python3",
      "display_name": "Python 3"
    },
    "language_info": {
      "name": "python"
    }
  },
  "cells": [
    {
      "cell_type": "code",
      "execution_count": null,
      "metadata": {
        "colab": {
          "base_uri": "https://localhost:8080/"
        },
        "id": "ZQqmbYfvkEpr",
        "outputId": "1a1974ad-772f-4b26-857c-74ee27b3d774"
      },
      "outputs": [
        {
          "output_type": "stream",
          "name": "stdout",
          "text": [
            "enter the number:115132219018763992565095597973971522400\n",
            "39\n",
            "narcissistic number\n"
          ]
        }
      ],
      "source": [
        "n=int(input(\"enter the number:\"))\n",
        "temp=n\n",
        "sum=0\n",
        "count=0\n",
        "while(n>0):\n",
        "  rem=n%10\n",
        "  count+=1\n",
        "  n//=10\n",
        "n=temp\n",
        "print(count)\n",
        "while(n>0):\n",
        "  rem=n%10\n",
        "  sum=sum+(rem**count)\n",
        "  n//=10\n",
        "if(sum==temp):\n",
        "  print(\"narcissistic number\")\n",
        "else:\n",
        "  print(\"no\")"
      ]
    },
    {
      "cell_type": "code",
      "source": [
        "16"
      ],
      "metadata": {
        "id": "KSBdKfbElTW7"
      },
      "execution_count": null,
      "outputs": []
    },
    {
      "cell_type": "code",
      "source": [
        "n=int(input(\"enter the number:\"))\n",
        "primenumber=[]\n",
        "if(n<=1):\n",
        "  print(\"there is not any prime number before n\")\n",
        "elif(n>1):\n",
        "  for num in range(2,n):\n",
        "    for i in range(2,num):\n",
        "      if(num%i==0):\n",
        "        break\n",
        "    else:\n",
        "        primenumber.append(num)\n",
        "print(f\"prime number less than {n} is :\" ,primenumber)"
      ],
      "metadata": {
        "colab": {
          "base_uri": "https://localhost:8080/"
        },
        "id": "3ZoF4gAhmbY8",
        "outputId": "b20969eb-d2be-4d5c-8c56-f240fa3b7277"
      },
      "execution_count": null,
      "outputs": [
        {
          "output_type": "stream",
          "name": "stdout",
          "text": [
            "enter the number:25\n",
            "prime number less than 25 is : [2, 3, 5, 7, 11, 13, 17, 19, 23]\n"
          ]
        }
      ]
    },
    {
      "cell_type": "code",
      "source": [
        "print(\"\\U0001f335\")"
      ],
      "metadata": {
        "colab": {
          "base_uri": "https://localhost:8080/"
        },
        "id": "TF9wkz_Ruumn",
        "outputId": "053675ae-92df-442c-8124-324a998c11a7"
      },
      "execution_count": null,
      "outputs": [
        {
          "output_type": "stream",
          "name": "stdout",
          "text": [
            "🌵\n"
          ]
        }
      ]
    },
    {
      "cell_type": "code",
      "source": [
        "print(\"\\U0001f338\")"
      ],
      "metadata": {
        "colab": {
          "base_uri": "https://localhost:8080/"
        },
        "id": "jFFG93Cjuujb",
        "outputId": "df219fe8-6031-4c96-89e6-594bca0f4893"
      },
      "execution_count": null,
      "outputs": [
        {
          "output_type": "stream",
          "name": "stdout",
          "text": [
            "🌸\n"
          ]
        }
      ]
    },
    {
      "cell_type": "code",
      "source": [
        "for k in range(20):\n",
        "  print(\"*         *\")\n",
        "  print(\"**       **\")\n",
        "  print(\"***     ***\")\n",
        "  print(\"***     ***\")\n",
        "  print(\"**       **\")\n",
        "  print(\"*         *\")"
      ],
      "metadata": {
        "id": "YQc_0FL7uuMR",
        "colab": {
          "base_uri": "https://localhost:8080/"
        },
        "outputId": "c160ca89-ccb2-4401-9236-e8a696997270"
      },
      "execution_count": null,
      "outputs": [
        {
          "output_type": "stream",
          "name": "stdout",
          "text": [
            "*         *\n",
            "**       **\n",
            "***     ***\n",
            "***     ***\n",
            "**       **\n",
            "*         *\n",
            "*         *\n",
            "**       **\n",
            "***     ***\n",
            "***     ***\n",
            "**       **\n",
            "*         *\n",
            "*         *\n",
            "**       **\n",
            "***     ***\n",
            "***     ***\n",
            "**       **\n",
            "*         *\n",
            "*         *\n",
            "**       **\n",
            "***     ***\n",
            "***     ***\n",
            "**       **\n",
            "*         *\n",
            "*         *\n",
            "**       **\n",
            "***     ***\n",
            "***     ***\n",
            "**       **\n",
            "*         *\n",
            "*         *\n",
            "**       **\n",
            "***     ***\n",
            "***     ***\n",
            "**       **\n",
            "*         *\n",
            "*         *\n",
            "**       **\n",
            "***     ***\n",
            "***     ***\n",
            "**       **\n",
            "*         *\n",
            "*         *\n",
            "**       **\n",
            "***     ***\n",
            "***     ***\n",
            "**       **\n",
            "*         *\n",
            "*         *\n",
            "**       **\n",
            "***     ***\n",
            "***     ***\n",
            "**       **\n",
            "*         *\n",
            "*         *\n",
            "**       **\n",
            "***     ***\n",
            "***     ***\n",
            "**       **\n",
            "*         *\n",
            "*         *\n",
            "**       **\n",
            "***     ***\n",
            "***     ***\n",
            "**       **\n",
            "*         *\n",
            "*         *\n",
            "**       **\n",
            "***     ***\n",
            "***     ***\n",
            "**       **\n",
            "*         *\n",
            "*         *\n",
            "**       **\n",
            "***     ***\n",
            "***     ***\n",
            "**       **\n",
            "*         *\n",
            "*         *\n",
            "**       **\n",
            "***     ***\n",
            "***     ***\n",
            "**       **\n",
            "*         *\n",
            "*         *\n",
            "**       **\n",
            "***     ***\n",
            "***     ***\n",
            "**       **\n",
            "*         *\n",
            "*         *\n",
            "**       **\n",
            "***     ***\n",
            "***     ***\n",
            "**       **\n",
            "*         *\n",
            "*         *\n",
            "**       **\n",
            "***     ***\n",
            "***     ***\n",
            "**       **\n",
            "*         *\n",
            "*         *\n",
            "**       **\n",
            "***     ***\n",
            "***     ***\n",
            "**       **\n",
            "*         *\n",
            "*         *\n",
            "**       **\n",
            "***     ***\n",
            "***     ***\n",
            "**       **\n",
            "*         *\n",
            "*         *\n",
            "**       **\n",
            "***     ***\n",
            "***     ***\n",
            "**       **\n",
            "*         *\n"
          ]
        }
      ]
    },
    {
      "cell_type": "code",
      "source": [
        "n=int(input(\"enter the number:\"))\n",
        "while(n>0):\n",
        "  print"
      ],
      "metadata": {
        "id": "ZljrwtcvU0uQ"
      },
      "execution_count": null,
      "outputs": []
    },
    {
      "cell_type": "code",
      "source": [
        "n = int(input(\"enter the number:\"))\n",
        "for i in range(1,n+1):\n",
        "    for j in range(1,i+1):\n",
        "        print(j, end=\"\")\n",
        "    print()\n"
      ],
      "metadata": {
        "colab": {
          "base_uri": "https://localhost:8080/"
        },
        "id": "dIqXkvjAVowt",
        "outputId": "3f63de4c-a7f2-46fd-d5e2-41e57412c099"
      },
      "execution_count": null,
      "outputs": [
        {
          "output_type": "stream",
          "name": "stdout",
          "text": [
            "enter the number:5\n",
            "1\n",
            "12\n",
            "123\n",
            "1234\n",
            "12345\n"
          ]
        }
      ]
    },
    {
      "cell_type": "code",
      "source": [
        "l=[-2.33,5.5,10,80,-90,1000,500,-1000]\n",
        "for i in range(len(l)):\n",
        "  for j in range"
      ],
      "metadata": {
        "id": "LwmA4IbVWLi4"
      },
      "execution_count": null,
      "outputs": []
    },
    {
      "cell_type": "code",
      "source": [
        "l = [-2.33, 5.5, 10, 80, -90, 1000, 500, -1000]\n",
        "sort = []\n",
        "\n",
        "while l:\n",
        "    smallest = min(l)\n",
        "    sort.append(smallest)\n",
        "    l = [x for x in l if x != smallest]  # Create a new list excluding the smallest element\n",
        "\n",
        "print(\"List in ascending order:\", sort)\n"
      ],
      "metadata": {
        "colab": {
          "base_uri": "https://localhost:8080/"
        },
        "id": "LJqQea5wYx8C",
        "outputId": "2fa1ab15-4239-4544-e6c6-3adfdb2fb8a0"
      },
      "execution_count": null,
      "outputs": [
        {
          "output_type": "stream",
          "name": "stdout",
          "text": [
            "List in ascending order: [-1000, -90, -2.33, 5.5, 10, 80, 500, 1000]\n"
          ]
        }
      ]
    },
    {
      "cell_type": "code",
      "source": [
        "l=[-2.33,5.5,10,80,-90,1000,500,-1000]\n",
        "a=len(l)\n",
        "for i in range (a):\n",
        "    for j in range (i):\n",
        "        if l[i]>l[j]:\n",
        "            l[i],l[j]=l[j],l[i]\n",
        "        else:\n",
        "            continue\n",
        "print(l)"
      ],
      "metadata": {
        "colab": {
          "base_uri": "https://localhost:8080/"
        },
        "id": "EKJskqW6Zijn",
        "outputId": "1659bac6-5bf9-4182-f42c-97b974f615c6"
      },
      "execution_count": null,
      "outputs": [
        {
          "output_type": "stream",
          "name": "stdout",
          "text": [
            "[1000, 500, 80, 10, 5.5, -2.33, -90, -1000]\n"
          ]
        }
      ]
    },
    {
      "cell_type": "code",
      "source": [
        "# Given a number n, print a pattern where the k-th line should have the numbers from 1 to k and then back down to 1. For example, if n is 4, the output should be:\n",
        "# 1\n",
        "# 121\n",
        "# 12321\n",
        "# 1234321\n",
        "n=int(input(\"enter the number:\"))\n",
        "for i in range(1, n+1):\n",
        "    for j in range(1,i+1):\n",
        "        print(j, end=\"\")\n",
        "    for j in range(i-1,0,-1):\n",
        "        print(j, end=\"\")\n",
        "    print()\n",
        "\n"
      ],
      "metadata": {
        "colab": {
          "base_uri": "https://localhost:8080/"
        },
        "id": "3dmYzqu_asBk",
        "outputId": "7af2ce1a-f672-42f0-86b7-9a3fde0cddec"
      },
      "execution_count": null,
      "outputs": [
        {
          "output_type": "stream",
          "name": "stdout",
          "text": [
            "enter the number:5\n",
            "1\n",
            "121\n",
            "12321\n",
            "1234321\n",
            "123454321\n"
          ]
        }
      ]
    },
    {
      "cell_type": "code",
      "source": [
        "ord('A')"
      ],
      "metadata": {
        "colab": {
          "base_uri": "https://localhost:8080/"
        },
        "id": "UdAeytxJdlp5",
        "outputId": "a39f6227-2f7f-4d94-aa0a-0643cf35cdc8"
      },
      "execution_count": null,
      "outputs": [
        {
          "output_type": "execute_result",
          "data": {
            "text/plain": [
              "65"
            ]
          },
          "metadata": {},
          "execution_count": 7
        }
      ]
    },
    {
      "cell_type": "code",
      "source": [
        "print(\" hello everyone \" \"10*'a\\n'\" \" good mornign\")"
      ],
      "metadata": {
        "colab": {
          "base_uri": "https://localhost:8080/"
        },
        "id": "6qiQTL6deLRj",
        "outputId": "ebd514c6-6fdc-4079-90b7-a6ae7ec0dd0a"
      },
      "execution_count": null,
      "outputs": [
        {
          "output_type": "stream",
          "name": "stdout",
          "text": [
            " hello everyone 10*'a\n",
            "' good mornign\n"
          ]
        }
      ]
    },
    {
      "cell_type": "code",
      "source": [
        "n=5\n",
        "for i in range(1,n+1):\n",
        "  for j in range(i):\n",
        "    print(i,end=\" \")\n",
        "    i+=1\n",
        "\n",
        "  print()"
      ],
      "metadata": {
        "colab": {
          "base_uri": "https://localhost:8080/"
        },
        "id": "csN5KRTpgfLY",
        "outputId": "90d84e47-d410-4e02-b130-6f63d64c60f5"
      },
      "execution_count": null,
      "outputs": [
        {
          "output_type": "stream",
          "name": "stdout",
          "text": [
            "1 \n",
            "2 3 \n",
            "3 4 5 \n",
            "4 5 6 7 \n",
            "5 6 7 8 9 \n"
          ]
        }
      ]
    },
    {
      "cell_type": "code",
      "source": [
        "n=5\n",
        "for i in range(1,n+1):\n",
        "  for j in range(i,n):\n",
        "    print(i,end=\" \")\n",
        "  i+=1\n",
        "\n",
        "  print()"
      ],
      "metadata": {
        "colab": {
          "base_uri": "https://localhost:8080/"
        },
        "id": "G4gk9TcihJAK",
        "outputId": "c5bb9711-3624-4755-def6-2ba8b2e03c38"
      },
      "execution_count": null,
      "outputs": [
        {
          "output_type": "stream",
          "name": "stdout",
          "text": [
            "1 1 1 \n",
            "2 2 \n",
            "3 \n",
            "\n",
            "\n"
          ]
        }
      ]
    },
    {
      "cell_type": "code",
      "source": [
        "n=int(input())\n",
        "for i in range (1,n+1):\n",
        "    for j in range (i,2*i):\n",
        "        print((n-i)' ',j,(n-i)' ', end='')\n",
        "    for k in range (2*i-2,i-1,-1):\n",
        "        print(k,end=' ')\n",
        "    print('')"
      ],
      "metadata": {
        "colab": {
          "base_uri": "https://localhost:8080/",
          "height": 106
        },
        "id": "sk_Nsg4GiVs6",
        "outputId": "a92405c3-730f-4617-f542-6b1f77e4f59c"
      },
      "execution_count": null,
      "outputs": [
        {
          "output_type": "error",
          "ename": "SyntaxError",
          "evalue": "invalid syntax. Perhaps you forgot a comma? (<ipython-input-25-de29b8d056a8>, line 4)",
          "traceback": [
            "\u001b[0;36m  File \u001b[0;32m\"<ipython-input-25-de29b8d056a8>\"\u001b[0;36m, line \u001b[0;32m4\u001b[0m\n\u001b[0;31m    print((n-i)' ',j,(n-i)' ', end=''),\u001b[0m\n\u001b[0m           ^\u001b[0m\n\u001b[0;31mSyntaxError\u001b[0m\u001b[0;31m:\u001b[0m invalid syntax. Perhaps you forgot a comma?\n"
          ]
        }
      ]
    },
    {
      "cell_type": "code",
      "source": [
        "n=int(input())\n",
        "for i in range (1,n+1):\n",
        "    for j in range (i,2*i):\n",
        "        print(j, end=' ')\n",
        "    for k in range (2*i-2,i-1,-1):\n",
        "        print(k,end=' ')\n",
        "    print('')"
      ],
      "metadata": {
        "colab": {
          "base_uri": "https://localhost:8080/"
        },
        "id": "2AIbByNwiuwO",
        "outputId": "f5e2ecd5-728c-4337-9e6b-3ee86c0b6244"
      },
      "execution_count": null,
      "outputs": [
        {
          "output_type": "stream",
          "name": "stdout",
          "text": [
            "5\n",
            "1 \n",
            "2 3 2 \n",
            "3 4 5 4 3 \n",
            "4 5 6 7 6 5 4 \n",
            "5 6 7 8 9 8 7 6 5 \n"
          ]
        }
      ]
    },
    {
      "cell_type": "code",
      "source": [
        "n=5\n",
        "for i in range(1,n+1):\n",
        "  for j in range(65,65+i):\n",
        "    print(chr(j), end=\" \")\n",
        "  print()"
      ],
      "metadata": {
        "colab": {
          "base_uri": "https://localhost:8080/"
        },
        "id": "eozZKiIOjdiN",
        "outputId": "89b5675f-5475-4ef0-da6d-da928eeab38c"
      },
      "execution_count": null,
      "outputs": [
        {
          "output_type": "stream",
          "name": "stdout",
          "text": [
            "A \n",
            "A B \n",
            "A B C \n",
            "A B C D \n",
            "A B C D E \n"
          ]
        }
      ]
    },
    {
      "cell_type": "code",
      "source": [
        "ord('a')"
      ],
      "metadata": {
        "colab": {
          "base_uri": "https://localhost:8080/"
        },
        "id": "Zd45ZGWvlNDE",
        "outputId": "ef401493-139a-47a5-a197-9c3e018f41eb"
      },
      "execution_count": null,
      "outputs": [
        {
          "output_type": "execute_result",
          "data": {
            "text/plain": [
              "97"
            ]
          },
          "metadata": {},
          "execution_count": 34
        }
      ]
    },
    {
      "cell_type": "code",
      "source": [
        "n=int(input())\n",
        "import string\n",
        "a=string.ascii_uppercase\n",
        "for i in range (n+1):\n",
        " b=a[0:i]\n",
        " print(b)"
      ],
      "metadata": {
        "colab": {
          "base_uri": "https://localhost:8080/"
        },
        "id": "__yu-3iGlu6B",
        "outputId": "582ba58e-f23b-4b32-ad3d-d96f2f19d706"
      },
      "execution_count": null,
      "outputs": [
        {
          "output_type": "stream",
          "name": "stdout",
          "text": [
            "5\n",
            "\n",
            "A\n",
            "AB\n",
            "ABC\n",
            "ABCD\n",
            "ABCDE\n"
          ]
        }
      ]
    },
    {
      "cell_type": "code",
      "source": [
        "#find the LCM of 2 numbers given by user\n",
        "first=int(input(\"enter the number:\"))\n",
        "second=int(input(\"enter second number :\"))\n",
        "if(first>second):\n",
        "  max=first\n",
        "  min=second\n",
        "else:\n",
        "  max=second\n",
        "  min=first\n",
        "if(min%max==0):\n",
        "  print(\"lcm of first and second is \",max)"
      ],
      "metadata": {
        "id": "8aKHE4FSnPIK"
      },
      "execution_count": null,
      "outputs": []
    },
    {
      "cell_type": "code",
      "source": [
        "first=int(input(\"Enter the first number: \"))\n",
        "second=int(input(\"Enter the second number: \"))\n",
        "\n",
        "if (first>second):\n",
        "    max=first\n",
        "else:\n",
        "    max=second\n",
        "\n",
        "while (max%first!=0 or max%second!=0):\n",
        "    max+= 1\n",
        "\n",
        "print(\"The LCM of\", first, \"and\", second, \"is\", max)\n"
      ],
      "metadata": {
        "colab": {
          "base_uri": "https://localhost:8080/"
        },
        "id": "B4FB7Ji6pAV4",
        "outputId": "a7f0b4b9-d556-4a8e-f079-f48ccba15094"
      },
      "execution_count": null,
      "outputs": [
        {
          "output_type": "stream",
          "name": "stdout",
          "text": [
            "Enter the first number: 5\n",
            "Enter the second number: 7\n",
            "The LCM of 5 and 7 is 35\n"
          ]
        }
      ]
    },
    {
      "cell_type": "code",
      "source": [
        "n=int(input(\"enter the number:\"))\n",
        "i=1\n",
        "for i in range(1,n+1):\n",
        "  if(n%i==0):\n",
        "    print(i,end=\" \")\n",
        "  i+=1"
      ],
      "metadata": {
        "colab": {
          "base_uri": "https://localhost:8080/"
        },
        "id": "QRxCxTABr47K",
        "outputId": "22c4accd-399c-43c1-d3df-28593f8f5064"
      },
      "execution_count": null,
      "outputs": [
        {
          "output_type": "stream",
          "name": "stdout",
          "text": [
            "enter the number:10\n",
            "1 2 5 10 "
          ]
        }
      ]
    },
    {
      "cell_type": "code",
      "source": [
        "n = int(input(\"Enter the number: \"))\n",
        "for i in range(1, n + 1):\n",
        "    if n % i == 0:\n",
        "        print(i, end=\" \")\n"
      ],
      "metadata": {
        "colab": {
          "base_uri": "https://localhost:8080/"
        },
        "id": "jzeflqQStBVL",
        "outputId": "61952891-228d-4186-e575-9268bd0a4dc3"
      },
      "execution_count": null,
      "outputs": [
        {
          "output_type": "stream",
          "name": "stdout",
          "text": [
            "Enter the number: 10\n",
            "1 2 5 10 "
          ]
        }
      ]
    },
    {
      "cell_type": "code",
      "source": [
        "n1=int(input('Enter first number: '))\n",
        "flag=0\n",
        "for i in range (2,n1+1):\n",
        "    if n1%i==0:\n",
        "        if i<2:\n",
        "            continue\n",
        "        elif i==2:\n",
        "            print(2,end=' ')\n",
        "        else:\n",
        "            for j in range (2,i):\n",
        "                if i%j==0:\n",
        "                    flag=False\n",
        "                    break\n",
        "                else:\n",
        "                    flag=True\n",
        "    else:\n",
        "        continue\n",
        "    if flag==True:\n",
        "        print(i,end=' ')"
      ],
      "metadata": {
        "colab": {
          "base_uri": "https://localhost:8080/"
        },
        "id": "g12JxIgktcjc",
        "outputId": "f15b9cfb-6b64-48ea-bdab-c5c536df3ab9"
      },
      "execution_count": null,
      "outputs": [
        {
          "output_type": "stream",
          "name": "stdout",
          "text": [
            "Enter first number: 10\n",
            "2 5 "
          ]
        }
      ]
    },
    {
      "cell_type": "code",
      "source": [
        "n=int(input(\"enter the number:\"))\n",
        "sum=0\n",
        "for i in range(1,n+1):\n",
        "  sum=sum+i\n",
        "print(sum)"
      ],
      "metadata": {
        "colab": {
          "base_uri": "https://localhost:8080/"
        },
        "id": "c10eiuPOtl0r",
        "outputId": "9f0787d0-4244-47a6-c36a-8d143c6904cc"
      },
      "execution_count": null,
      "outputs": [
        {
          "output_type": "stream",
          "name": "stdout",
          "text": [
            "enter the number:10\n",
            "55\n"
          ]
        }
      ]
    },
    {
      "cell_type": "code",
      "source": [
        "mylist=[10,20,56,89,54,68]\n",
        "mylist.append(77)\n",
        "print(mylist)"
      ],
      "metadata": {
        "colab": {
          "base_uri": "https://localhost:8080/"
        },
        "id": "7wIR5qvls8ni",
        "outputId": "c62c581d-4282-4ff9-e5ac-45a7547b38da"
      },
      "execution_count": 1,
      "outputs": [
        {
          "output_type": "stream",
          "name": "stdout",
          "text": [
            "[10, 20, 56, 89, 54, 68, 77]\n"
          ]
        }
      ]
    },
    {
      "cell_type": "code",
      "source": [
        "mylist.extend(\"ram\")\n",
        "print(mylist)"
      ],
      "metadata": {
        "colab": {
          "base_uri": "https://localhost:8080/"
        },
        "id": "ed4QvFy0tZJq",
        "outputId": "fd19982f-3a1f-40b1-b899-b629d34bb5ed"
      },
      "execution_count": 2,
      "outputs": [
        {
          "output_type": "stream",
          "name": "stdout",
          "text": [
            "[10, 20, 56, 89, 54, 68, 77, 'r', 'a', 'm']\n"
          ]
        }
      ]
    },
    {
      "cell_type": "code",
      "source": [
        "mylist.extend([\"krishna\"])\n",
        "print(mylist)"
      ],
      "metadata": {
        "colab": {
          "base_uri": "https://localhost:8080/"
        },
        "id": "q_UJ0ieSthv5",
        "outputId": "a2c954f7-0a62-4ff3-c053-475487cf03cb"
      },
      "execution_count": 3,
      "outputs": [
        {
          "output_type": "stream",
          "name": "stdout",
          "text": [
            "[10, 20, 56, 89, 54, 68, 77, 'r', 'a', 'm', 'krishna']\n"
          ]
        }
      ]
    },
    {
      "cell_type": "code",
      "source": [
        "mylist.pop(2)"
      ],
      "metadata": {
        "colab": {
          "base_uri": "https://localhost:8080/"
        },
        "id": "wXBUEHZdtqqr",
        "outputId": "0ab13ea6-06fb-4a6e-c2d0-3320a2de19d4"
      },
      "execution_count": 4,
      "outputs": [
        {
          "output_type": "execute_result",
          "data": {
            "text/plain": [
              "56"
            ]
          },
          "metadata": {},
          "execution_count": 4
        }
      ]
    },
    {
      "cell_type": "code",
      "source": [
        "print(mylist)"
      ],
      "metadata": {
        "colab": {
          "base_uri": "https://localhost:8080/"
        },
        "id": "4k8gI0nLtwA4",
        "outputId": "abc47bb8-d987-49ff-fdb8-07a09b0571d0"
      },
      "execution_count": 5,
      "outputs": [
        {
          "output_type": "stream",
          "name": "stdout",
          "text": [
            "[10, 20, 89, 54, 68, 77, 'r', 'a', 'm', 'krishna']\n"
          ]
        }
      ]
    },
    {
      "cell_type": "code",
      "source": [
        "#to find out maximum in the list\n",
        "mylist=[10,20,30,56,79,11]\n",
        "max=0\n",
        "for i in mylist:\n",
        "  if (i>max):\n",
        "    max=i\n",
        "print(max)"
      ],
      "metadata": {
        "colab": {
          "base_uri": "https://localhost:8080/"
        },
        "id": "IUFEpUU7tyid",
        "outputId": "6e9a8474-cb97-47b9-d326-07b5ed2e5d34"
      },
      "execution_count": 4,
      "outputs": [
        {
          "output_type": "stream",
          "name": "stdout",
          "text": [
            "79\n"
          ]
        }
      ]
    },
    {
      "cell_type": "code",
      "source": [
        "# to find out max out of the list\n",
        "data=[1,2,3,43,5,6,7,8,9]\n",
        "max=0\n",
        "for i in data:\n",
        "  if(i>max):\n",
        "    max=i\n",
        "print(max)"
      ],
      "metadata": {
        "colab": {
          "base_uri": "https://localhost:8080/"
        },
        "id": "wi2_K0CZGyGF",
        "outputId": "716e96f7-0794-4f32-df94-765c095eca15"
      },
      "execution_count": 5,
      "outputs": [
        {
          "output_type": "stream",
          "name": "stdout",
          "text": [
            "43\n"
          ]
        }
      ]
    },
    {
      "cell_type": "code",
      "source": [
        "#to find out the secondmax in the list\n",
        "data=[1,2,3,43,55,6,7,8,9]\n",
        "max=0\n",
        "secondmax=0\n",
        "for i in data:\n",
        "  if(i>max):\n",
        "    secondmax=max\n",
        "    max=i\n",
        "\n",
        "  elif(i>secondmax and i!=max):\n",
        "    secondmax=i\n",
        "print(max,secondmax)"
      ],
      "metadata": {
        "colab": {
          "base_uri": "https://localhost:8080/"
        },
        "id": "5sFvmqaWGx_c",
        "outputId": "2f0540fb-1779-47d0-f737-8802782d2c01"
      },
      "execution_count": 9,
      "outputs": [
        {
          "output_type": "stream",
          "name": "stdout",
          "text": [
            "55 43\n"
          ]
        }
      ]
    },
    {
      "cell_type": "code",
      "source": [
        "print(len(data))"
      ],
      "metadata": {
        "colab": {
          "base_uri": "https://localhost:8080/"
        },
        "id": "dMQgJRiWHuah",
        "outputId": "aefa9d6a-d3d3-47d2-efc1-463b9b9fc05a"
      },
      "execution_count": 10,
      "outputs": [
        {
          "output_type": "stream",
          "name": "stdout",
          "text": [
            "9\n"
          ]
        }
      ]
    },
    {
      "cell_type": "code",
      "source": [
        "#to find out if there is any 3 consecutive number present in the list or not?\n",
        "mylist = [10, 20, 4, 19, 8, 5, 6, 7]\n",
        "for i in range(len(mylist)-2):\n",
        "  if(mylist[i]+1==mylist[i+1] and mylist[i]+2==mylist[i+2]):\n",
        "    print(f\"consecutive numbers found: {mylist[i]},{mylist[i+1]},{mylist[i+2]}\")\n",
        "    break\n",
        "\n",
        "else:\n",
        "    print(\"NO three consecutive numbers found\")\n"
      ],
      "metadata": {
        "colab": {
          "base_uri": "https://localhost:8080/"
        },
        "id": "Du5_NRWtH84h",
        "outputId": "1835e761-a08b-4833-a98f-8eb0d1026da8"
      },
      "execution_count": 14,
      "outputs": [
        {
          "output_type": "stream",
          "name": "stdout",
          "text": [
            "consecutive numbers found 5,6,7\n"
          ]
        }
      ]
    },
    {
      "cell_type": "code",
      "source": [
        "#same as above\n",
        "beta=[1,98,54,32,33,34,45,36,34,56,57,58]\n",
        "for i in range(len(beta)-2):\n",
        "  if(beta[i]+1==beta[i+1] and beta[i]+2==beta[i+2]):\n",
        "    print(\"3 consecutive numbers found\",beta[i],beta[i+1],beta[i+2])\n",
        "    break\n",
        "else:\n",
        "  print(\"no consecutive numbers found\")"
      ],
      "metadata": {
        "colab": {
          "base_uri": "https://localhost:8080/"
        },
        "id": "3raYJnwqJcna",
        "outputId": "67583a73-c2f4-40be-f3f6-1c5ec3d1d7ec"
      },
      "execution_count": 19,
      "outputs": [
        {
          "output_type": "stream",
          "name": "stdout",
          "text": [
            "3 consecutive numbers found 32 33 34\n"
          ]
        }
      ]
    },
    {
      "cell_type": "code",
      "source": [
        "# #Q. Find valid parenthesis (a question of leet code)\n",
        "# sequence of parenthesis should be same [({  })]\n",
        "# if it is closing in this way then this is valid\n",
        "# parenthesis otherwise it is not valid parenthesis\n",
        "\n",
        "listed=[]\n",
        "x=0\n",
        "for char in \"[({})]\":\n",
        "  if char in \"[({\":\n",
        "    listed.append(char)\n",
        "  else:\n",
        "    if(char==\"}\" and listed.pop!=\"{\"):\n",
        "      x+=1\n",
        "      break\n",
        "    elif(char==\")\" and listed.pop!=\"(\"):\n",
        "      x+=1\n",
        "      break\n",
        "    elif(char==\"]\" and listed.pop!=\"[\"):\n",
        "      x+=1\n",
        "      break\n",
        "  if(x==1):\n",
        "    print(\"this is not valid parenthesis\")\n",
        "  else:\n",
        "    print(\"this is valid parenthesis\")\n",
        "\n",
        "  print(listed)"
      ],
      "metadata": {
        "colab": {
          "base_uri": "https://localhost:8080/"
        },
        "id": "dyun3esTK4PF",
        "outputId": "9cabf99f-c513-40ff-cc0d-53768c802f7c"
      },
      "execution_count": 21,
      "outputs": [
        {
          "output_type": "stream",
          "name": "stdout",
          "text": [
            "this is valid parenthesis\n",
            "['[']\n",
            "this is valid parenthesis\n",
            "['[', '(']\n",
            "this is valid parenthesis\n",
            "['[', '(', '{']\n"
          ]
        }
      ]
    },
    {
      "cell_type": "code",
      "source": [
        "food=[]\n",
        "x=0\n",
        "for char in \"[({})]\":\n",
        "  if char in \"[({\":\n",
        "    food.append(char)\n",
        "  else:\n",
        "    if(char==\"}\" and food.pop()!=\"{\"):\n",
        "      x+=1\n",
        "      break\n",
        "    elif(char==\")\" and food.pop()!=\"(\"):\n",
        "      x+=1\n",
        "      break\n",
        "    elif(char==\"]\" and food.pop()!=\"[\"):\n",
        "      x+=1\n",
        "      break\n",
        "if(x==1):\n",
        "  print(\"parenthesis is not valid\")\n",
        "else:\n",
        "  print(\"Parenthesis is valid\")\n",
        "  print(food)\n"
      ],
      "metadata": {
        "colab": {
          "base_uri": "https://localhost:8080/"
        },
        "id": "5oFVqXF3NfYQ",
        "outputId": "568ba646-2dce-4bdb-9a90-dac52abcd8a5"
      },
      "execution_count": 23,
      "outputs": [
        {
          "output_type": "stream",
          "name": "stdout",
          "text": [
            "Parenthesis is valid\n",
            "[]\n"
          ]
        }
      ]
    },
    {
      "cell_type": "code",
      "source": [],
      "metadata": {
        "id": "sw6qHgbxNfU1"
      },
      "execution_count": null,
      "outputs": []
    },
    {
      "cell_type": "code",
      "source": [],
      "metadata": {
        "id": "0OdfvPedNfD_"
      },
      "execution_count": null,
      "outputs": []
    }
  ]
}