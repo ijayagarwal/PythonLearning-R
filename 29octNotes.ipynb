{
  "nbformat": 4,
  "nbformat_minor": 0,
  "metadata": {
    "colab": {
      "provenance": []
    },
    "kernelspec": {
      "name": "python3",
      "display_name": "Python 3"
    },
    "language_info": {
      "name": "python"
    }
  },
  "cells": [
    {
      "cell_type": "code",
      "source": [
        "#function\n",
        "#block of code=> task again (execute)\n",
        "#loop and function\n",
        "#repetative"
      ],
      "metadata": {
        "id": "pa3AfhRr5klo"
      },
      "execution_count": null,
      "outputs": []
    },
    {
      "cell_type": "code",
      "source": [
        "#functions are made using def keyword\n",
        "def func():\n",
        "  print(\"hey\")"
      ],
      "metadata": {
        "id": "Z6x9vOhj6HQv"
      },
      "execution_count": 3,
      "outputs": []
    },
    {
      "cell_type": "code",
      "source": [
        "func()"
      ],
      "metadata": {
        "colab": {
          "base_uri": "https://localhost:8080/"
        },
        "id": "EZNhj32U6RYW",
        "outputId": "e5182e79-8fe2-40d2-e6aa-dde5cefb6967"
      },
      "execution_count": 4,
      "outputs": [
        {
          "output_type": "stream",
          "name": "stdout",
          "text": [
            "hey\n"
          ]
        }
      ]
    },
    {
      "cell_type": "code",
      "source": [
        "def func(n):\n",
        "  print(\"hey\",n)"
      ],
      "metadata": {
        "id": "SfvMiZOP6fN_"
      },
      "execution_count": 5,
      "outputs": []
    },
    {
      "cell_type": "code",
      "source": [
        "func(30)"
      ],
      "metadata": {
        "colab": {
          "base_uri": "https://localhost:8080/"
        },
        "id": "smHRux6m6kEI",
        "outputId": "46a8a8d9-219c-4bc1-999b-87e53947e9ad"
      },
      "execution_count": 6,
      "outputs": [
        {
          "output_type": "stream",
          "name": "stdout",
          "text": [
            "hey 30\n"
          ]
        }
      ]
    },
    {
      "cell_type": "code",
      "source": [
        "# # ## contains duplicate leetcode\n",
        "# # Given an integer array nums, return true if any value appears at least twice in the array, and return false if every element is distinct.\n",
        "\n",
        "\n",
        "\n",
        "# # Example 1:\n",
        "\n",
        "# # Input: nums = [1,2,3,1]\n",
        "\n",
        "# # Output: true\n",
        "\n",
        "# # Explanation:\n",
        "\n",
        "# # The element 1 occurs at the indices 0 and 3.\n",
        "\n",
        "    ##CODE::::>>>>\n",
        "# class Solution:\n",
        "#     def containsDuplicate(self, nums: List[int]) -> bool:\n",
        "#         #nums=[1,2,3,1]\n",
        "#         #{1:2}\n",
        "#         dup_dict={}\n",
        "#         for num in nums:\n",
        "#             if num in dup_dict:\n",
        "#                 return True\n",
        "#             else:\n",
        "#                 dup_dict[num]=1\n",
        "#         return False\n",
        ""
      ],
      "metadata": {
        "id": "BNDypd3s67tK"
      },
      "execution_count": 8,
      "outputs": []
    },
    {
      "cell_type": "code",
      "execution_count": 2,
      "metadata": {
        "id": "GkZQCIL5LneF"
      },
      "outputs": [],
      "source": [
        "# # ## two sum leetcode\n",
        "# # Given an array of integers nums and an integer target, return indices of the two numbers such that they add up to target.\n",
        "\n",
        "# # You may assume that each input would have exactly one solution, and you may not use the same element twice.\n",
        "\n",
        "# # You can return the answer in any order.\n",
        "\n",
        "\n",
        "\n",
        "# # Example 1:\n",
        "\n",
        "# # Input: nums = [2,7,11,15], target = 9\n",
        "# # Output: [0,1]\n",
        "# # Explanation: Because nums[0] + nums[1] == 9, we return [0, 1]\n",
        "\n",
        "\n",
        "# #1st method\n",
        "\n",
        "##CODE::::>>>>\n",
        "# class Solution:\n",
        "#     def twoSum(self, nums: List[int], target: int) -> List[int]:\n",
        "#         for index in range(0,len(nums)):\n",
        "#             for j in range(index+1, len(nums)):\n",
        "#                 if(nums[index]+nums[j]==target):\n",
        "#                     return[index,j]\n",
        ""
      ]
    },
    {
      "cell_type": "code",
      "source": [
        "# #2nd method\n",
        "##CODE::::>>>>\n",
        "# class Solution:\n",
        "#     def twoSum(self, nums: List[int], target: int) -> List[int]:\n",
        "#         dict={}\n",
        "#         for index in range(0,len(nums)):\n",
        "#             data=nums[index]\n",
        "#             if target-data in dict:\n",
        "#                 return(dict[target-data],index)\n",
        "#             dict[data]=index\n",
        ""
      ],
      "metadata": {
        "id": "ef2r2Go0v2Eb"
      },
      "execution_count": null,
      "outputs": []
    }
  ]
}