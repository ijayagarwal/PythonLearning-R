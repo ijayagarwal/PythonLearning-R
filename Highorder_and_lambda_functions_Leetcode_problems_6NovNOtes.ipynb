{
  "nbformat": 4,
  "nbformat_minor": 0,
  "metadata": {
    "colab": {
      "provenance": []
    },
    "kernelspec": {
      "name": "python3",
      "display_name": "Python 3"
    },
    "language_info": {
      "name": "python"
    }
  },
  "cells": [
    {
      "cell_type": "code",
      "execution_count": null,
      "metadata": {
        "id": "Bn5tGgMKnL5P"
      },
      "outputs": [],
      "source": [
        "##first class functions\n",
        "## first class"
      ]
    },
    {
      "cell_type": "code",
      "source": [
        "# x=func()\n",
        "# func()\n",
        "# x()\n",
        "# ## it will give error"
      ],
      "metadata": {
        "colab": {
          "base_uri": "https://localhost:8080/",
          "height": 193
        },
        "id": "-JV2m6CEn5Ek",
        "outputId": "f57f7062-f321-4f96-b16b-303a440e8715"
      },
      "execution_count": 1,
      "outputs": [
        {
          "output_type": "error",
          "ename": "NameError",
          "evalue": "name 'func' is not defined",
          "traceback": [
            "\u001b[0;31m---------------------------------------------------------------------------\u001b[0m",
            "\u001b[0;31mNameError\u001b[0m                                 Traceback (most recent call last)",
            "\u001b[0;32m<ipython-input-1-d821681d3105>\u001b[0m in \u001b[0;36m<cell line: 1>\u001b[0;34m()\u001b[0m\n\u001b[0;32m----> 1\u001b[0;31m \u001b[0mx\u001b[0m\u001b[0;34m=\u001b[0m\u001b[0mfunc\u001b[0m\u001b[0;34m(\u001b[0m\u001b[0;34m)\u001b[0m\u001b[0;34m\u001b[0m\u001b[0;34m\u001b[0m\u001b[0m\n\u001b[0m\u001b[1;32m      2\u001b[0m \u001b[0mfunc\u001b[0m\u001b[0;34m(\u001b[0m\u001b[0;34m)\u001b[0m\u001b[0;34m\u001b[0m\u001b[0;34m\u001b[0m\u001b[0m\n\u001b[1;32m      3\u001b[0m \u001b[0mx\u001b[0m\u001b[0;34m(\u001b[0m\u001b[0;34m)\u001b[0m\u001b[0;34m\u001b[0m\u001b[0;34m\u001b[0m\u001b[0m\n\u001b[1;32m      4\u001b[0m \u001b[0;31m## it will give error\u001b[0m\u001b[0;34m\u001b[0m\u001b[0;34m\u001b[0m\u001b[0m\n",
            "\u001b[0;31mNameError\u001b[0m: name 'func' is not defined"
          ]
        }
      ]
    },
    {
      "cell_type": "code",
      "source": [],
      "metadata": {
        "id": "9c7IrKzdoBmi"
      },
      "execution_count": null,
      "outputs": []
    },
    {
      "cell_type": "code",
      "source": [
        "#if we can pass a function as a argument to another function\n",
        "#high order functions\n",
        "#all high order function are first class functions"
      ],
      "metadata": {
        "id": "KZLOPIcqoY-P"
      },
      "execution_count": null,
      "outputs": []
    },
    {
      "cell_type": "code",
      "source": [
        "#but converse is not true"
      ],
      "metadata": {
        "id": "DH38bMmFoiRy"
      },
      "execution_count": null,
      "outputs": []
    },
    {
      "cell_type": "code",
      "source": [
        "def func(a,b):\n",
        "  print(a+b)\n",
        "  return a+b\n",
        "\n",
        "x=func(10,20)\n",
        "print(x)"
      ],
      "metadata": {
        "colab": {
          "base_uri": "https://localhost:8080/"
        },
        "id": "owlk9k9Romdy",
        "outputId": "d3aedfa0-4b3b-4c22-8412-e7c1cd076e66"
      },
      "execution_count": 3,
      "outputs": [
        {
          "output_type": "stream",
          "name": "stdout",
          "text": [
            "30\n",
            "30\n"
          ]
        }
      ]
    },
    {
      "cell_type": "code",
      "source": [
        "def func(a,b):\n",
        "  print(a+b)\n",
        "def addNo(x,y):\n",
        "  print(x,y)\n",
        "\n",
        "addNo(10,func(10,20))"
      ],
      "metadata": {
        "colab": {
          "base_uri": "https://localhost:8080/"
        },
        "id": "qkmcNAHRpI8r",
        "outputId": "7cb24d31-33ea-45d1-d512-f51b6fb8092d"
      },
      "execution_count": 4,
      "outputs": [
        {
          "output_type": "stream",
          "name": "stdout",
          "text": [
            "30\n",
            "10 None\n"
          ]
        }
      ]
    },
    {
      "cell_type": "code",
      "source": [
        "def func(a,b):\n",
        "  return (a+b)\n",
        "def addNo(x,y):\n",
        "  return (x,y)\n",
        "\n",
        "addNo(10,func(10,20))"
      ],
      "metadata": {
        "colab": {
          "base_uri": "https://localhost:8080/"
        },
        "id": "hSfTqhoGpzvB",
        "outputId": "f94222b2-2a9f-4d33-d224-423b10eaef5a"
      },
      "execution_count": 5,
      "outputs": [
        {
          "output_type": "execute_result",
          "data": {
            "text/plain": [
              "(10, 30)"
            ]
          },
          "metadata": {},
          "execution_count": 5
        }
      ]
    },
    {
      "cell_type": "code",
      "source": [
        "addNo(40,func)"
      ],
      "metadata": {
        "colab": {
          "base_uri": "https://localhost:8080/"
        },
        "id": "2FiAHqG1p8n_",
        "outputId": "be20861f-651d-4126-8639-5481df601bfa"
      },
      "execution_count": 6,
      "outputs": [
        {
          "output_type": "execute_result",
          "data": {
            "text/plain": [
              "(40, <function __main__.func(a, b)>)"
            ]
          },
          "metadata": {},
          "execution_count": 6
        }
      ]
    },
    {
      "cell_type": "code",
      "source": [
        "def func(a,b):\n",
        "  print(a+b)\n",
        "\n",
        "def addNo(x,y):\n",
        "  print(x,y(10,20))\n",
        "\n",
        "addNo(10,func)"
      ],
      "metadata": {
        "colab": {
          "base_uri": "https://localhost:8080/"
        },
        "id": "ooNommFdp8gy",
        "outputId": "8c0644b6-a44b-48bb-ed86-c7ad0c1f3f72"
      },
      "execution_count": 7,
      "outputs": [
        {
          "output_type": "stream",
          "name": "stdout",
          "text": [
            "30\n",
            "10 None\n"
          ]
        }
      ]
    },
    {
      "cell_type": "code",
      "source": [
        "def func(a,b):\n",
        "  return(a+b)\n",
        "\n",
        "def addNo(x,y):\n",
        "  print(x,y(10,20))\n",
        "\n",
        "addNo(10,func)"
      ],
      "metadata": {
        "colab": {
          "base_uri": "https://localhost:8080/"
        },
        "id": "awqc2aZErent",
        "outputId": "96ba21da-2232-4d66-ee2d-7f81b3af84c2"
      },
      "execution_count": 8,
      "outputs": [
        {
          "output_type": "stream",
          "name": "stdout",
          "text": [
            "10 30\n"
          ]
        }
      ]
    },
    {
      "cell_type": "code",
      "source": [
        "def square(x):\n",
        "  return(x**2)\n",
        "\n",
        "def cube(n,funt):\n",
        "  print(n*funt(n))\n",
        "\n",
        "  #x=square(10)\n",
        "cube(6,square)"
      ],
      "metadata": {
        "colab": {
          "base_uri": "https://localhost:8080/"
        },
        "id": "Wb3DvsW9r-rH",
        "outputId": "8c4d6a8a-b34a-4077-ff61-9d0c5a477c2c"
      },
      "execution_count": 10,
      "outputs": [
        {
          "output_type": "stream",
          "name": "stdout",
          "text": [
            "216\n"
          ]
        }
      ]
    },
    {
      "cell_type": "code",
      "source": [
        "# ##Lamda functions\n",
        "# started with lamda\n",
        "# lamda=> annoymous functions\n",
        "# same as normal function\n",
        "# it is like one time use function\n",
        "\n",
        "'''\n",
        "normal function start with def\n",
        "\n",
        "lamda function start with lamda\n",
        "\n",
        "'''\n",
        "\n",
        "def func(x):\n",
        "  return x+10\n",
        "print(func)\n"
      ],
      "metadata": {
        "colab": {
          "base_uri": "https://localhost:8080/"
        },
        "id": "M1YFfc3qtT95",
        "outputId": "3a1195a4-2672-49ed-aa60-eddfc5838cd2"
      },
      "execution_count": 12,
      "outputs": [
        {
          "output_type": "stream",
          "name": "stdout",
          "text": [
            "<function func at 0x7a92b4f31ab0>\n"
          ]
        }
      ]
    },
    {
      "cell_type": "code",
      "source": [
        "lambda x,y: x+y\n",
        "func(10)"
      ],
      "metadata": {
        "colab": {
          "base_uri": "https://localhost:8080/"
        },
        "id": "OGm0iwN0uIVc",
        "outputId": "d147c057-c6ee-4fa2-9ab4-5352899bfc14"
      },
      "execution_count": 14,
      "outputs": [
        {
          "output_type": "execute_result",
          "data": {
            "text/plain": [
              "20"
            ]
          },
          "metadata": {},
          "execution_count": 14
        }
      ]
    },
    {
      "cell_type": "code",
      "source": [
        "func=lambda x,y: x+y\n",
        "func(1,11)"
      ],
      "metadata": {
        "colab": {
          "base_uri": "https://localhost:8080/"
        },
        "id": "hhZn47Pmuk_M",
        "outputId": "f0ad8108-ff28-4364-ff2d-5b7b04206e6b"
      },
      "execution_count": 15,
      "outputs": [
        {
          "output_type": "execute_result",
          "data": {
            "text/plain": [
              "12"
            ]
          },
          "metadata": {},
          "execution_count": 15
        }
      ]
    },
    {
      "cell_type": "code",
      "source": [
        "def cube(x):\n",
        "  print(lambda x: x**2)\n",
        "\n",
        "cube(4)"
      ],
      "metadata": {
        "id": "Hc9bHcGYutgW"
      },
      "execution_count": null,
      "outputs": []
    },
    {
      "cell_type": "code",
      "source": [
        "def cube(x):\n",
        "  out =(lambda x: x**2)\n",
        "  print(\"vlaue of lambda is \",x*out(x))\n",
        "\n",
        "cube(4)"
      ],
      "metadata": {
        "colab": {
          "base_uri": "https://localhost:8080/"
        },
        "id": "KDHmvPRdvDm4",
        "outputId": "8cb078b8-6692-4c21-d18f-fe4b45970144"
      },
      "execution_count": 16,
      "outputs": [
        {
          "output_type": "stream",
          "name": "stdout",
          "text": [
            "vlaue of lambda is  64\n"
          ]
        }
      ]
    },
    {
      "cell_type": "code",
      "source": [
        "## now we will learn map,filter,reduce\n",
        "# these are the functions which will take different\n",
        "# functions as a parameter"
      ],
      "metadata": {
        "id": "AEC-Sg-DwDyG"
      },
      "execution_count": null,
      "outputs": []
    },
    {
      "cell_type": "code",
      "source": [
        "# watch lecture at time stamp 55mins"
      ],
      "metadata": {
        "id": "ikzd9ORRwaw9"
      },
      "execution_count": null,
      "outputs": []
    },
    {
      "cell_type": "code",
      "source": [],
      "metadata": {
        "id": "gK3n9mrTwauz"
      },
      "execution_count": null,
      "outputs": []
    },
    {
      "cell_type": "code",
      "source": [
        "# #types of argument\n",
        "# required\n",
        "# positional\n",
        "# keyword\n",
        "# args\n",
        "# kwargs"
      ],
      "metadata": {
        "id": "kwXc8fMQwaZN"
      },
      "execution_count": null,
      "outputs": []
    },
    {
      "cell_type": "code",
      "source": [
        "# kisi function ko as a argument pass krna is known as high order function"
      ],
      "metadata": {
        "id": "tbX9z04CwzrH"
      },
      "execution_count": null,
      "outputs": []
    },
    {
      "cell_type": "code",
      "source": [
        "## we use lambda function to increase code\n",
        "#readibility"
      ],
      "metadata": {
        "id": "-PWbM1QKxAji"
      },
      "execution_count": null,
      "outputs": []
    },
    {
      "cell_type": "code",
      "source": [
        "# ## leetcode problem no.1\n",
        "\n",
        "# class Solution:\n",
        "#     def twoSum(self, nums: List[int], target: int) -> List[int]:\n",
        "#         dict={}\n",
        "#         for index in range(0,len(nums)):\n",
        "#             data=nums[index]\n",
        "#             if target-data in dict:\n",
        "#                 return(dict[target-data],index)\n",
        "#             dict[data]=index\n",
        ""
      ],
      "metadata": {
        "id": "8HXmQjFqxZ3y"
      },
      "execution_count": null,
      "outputs": []
    },
    {
      "cell_type": "code",
      "source": [
        "#leet problem 1 two number sum\n",
        "mydict={}\n",
        "for x in enumerate([10,20,30]):\n",
        "  value,key=x\n",
        "  print(key)\n",
        "\n",
        "  if key not in mydict:\n",
        "    mydict[key]=value\n",
        "print(mydict)"
      ],
      "metadata": {
        "colab": {
          "base_uri": "https://localhost:8080/"
        },
        "id": "P2FkbQuZxga3",
        "outputId": "6c3fbda7-8650-41e5-f4b2-293daceef710"
      },
      "execution_count": 21,
      "outputs": [
        {
          "output_type": "stream",
          "name": "stdout",
          "text": [
            "10\n",
            "20\n",
            "30\n",
            "0\n",
            "{10: 0, 20: 1, 30: 2, 0: 3}\n"
          ]
        }
      ]
    },
    {
      "cell_type": "code",
      "source": [
        "#leet problem 1 two number sum\n",
        "mydict={}\n",
        "k=30\n",
        "for x in enumerate([10,20,30]):\n",
        "  value,key=x\n",
        "  print(key)\n",
        "\n",
        "  if key not in mydict:\n",
        "    mydict[key]=value\n",
        "print(mydict)\n",
        "\n",
        "for value,key in enumerate([10,20,30]):\n",
        "  if k-key in mydict and mydict[k-key]!=value:\n",
        "    print([value,mydict[k-key]])\n",
        "    break"
      ],
      "metadata": {
        "colab": {
          "base_uri": "https://localhost:8080/"
        },
        "id": "V7G9vtox4Sgm",
        "outputId": "a8b0052f-4f2c-484e-df28-f0ee78d9a949"
      },
      "execution_count": 24,
      "outputs": [
        {
          "output_type": "stream",
          "name": "stdout",
          "text": [
            "10\n",
            "20\n",
            "30\n",
            "{10: 0, 20: 1, 30: 2}\n",
            "[0, 1]\n"
          ]
        }
      ]
    },
    {
      "cell_type": "code",
      "source": [
        "##try same question at home as well"
      ],
      "metadata": {
        "id": "XI6l94No8xSR"
      },
      "execution_count": null,
      "outputs": []
    },
    {
      "cell_type": "code",
      "source": [],
      "metadata": {
        "id": "lsuKLRON82ym"
      },
      "execution_count": null,
      "outputs": []
    },
    {
      "cell_type": "code",
      "source": [
        "sell=1\n",
        "buy=0\n",
        "maxi=0\n",
        "mylist=[7,10,5,3,6,20]\n",
        "no_days=len(mylist)\n",
        "\n",
        "while(sell<no_days):\n",
        "  if(mylist[sell]>mylist[buy]):\n",
        "    profit_margin=mylist[sell]-mylist[buy]\n",
        "    maxi=max(maxi,profit_margin)\n",
        "  else:\n",
        "    buy=sell\n",
        "  sell+=1\n",
        "\n",
        "print(maxi)\n"
      ],
      "metadata": {
        "colab": {
          "base_uri": "https://localhost:8080/"
        },
        "id": "6Ub9v5lzHumN",
        "outputId": "b13938af-24fc-472d-aad8-ef60c7f48dfe"
      },
      "execution_count": 26,
      "outputs": [
        {
          "output_type": "stream",
          "name": "stdout",
          "text": [
            "17\n"
          ]
        }
      ]
    }
  ]
}