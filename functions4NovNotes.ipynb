{
  "nbformat": 4,
  "nbformat_minor": 0,
  "metadata": {
    "colab": {
      "provenance": []
    },
    "kernelspec": {
      "name": "python3",
      "display_name": "Python 3"
    },
    "language_info": {
      "name": "python"
    }
  },
  "cells": [
    {
      "cell_type": "code",
      "execution_count": null,
      "metadata": {
        "id": "hZfU3e-HV3V9"
      },
      "outputs": [],
      "source": [
        "# funcctions\n",
        "# named block\n",
        "# logic/statement=> name\n",
        "# code reuse\n",
        "\n",
        "# function=> code smaller part convert\n",
        "# issue/ debugging is quite easy"
      ]
    },
    {
      "cell_type": "code",
      "source": [
        "def func(y):\n",
        "  x=10\n",
        "  print(\"hey\",x+y)\n",
        "\n",
        "  ## here y and x is known as local variable as it is used inside function\n",
        "  # we can't call them outside the func otherwise it will show error"
      ],
      "metadata": {
        "id": "MUMb_JCrasg1"
      },
      "execution_count": null,
      "outputs": []
    },
    {
      "cell_type": "code",
      "source": [
        "func(50)"
      ],
      "metadata": {
        "colab": {
          "base_uri": "https://localhost:8080/"
        },
        "id": "7WrW6Jqda2jm",
        "outputId": "55195026-7e8f-499c-931c-eea8ede89492"
      },
      "execution_count": null,
      "outputs": [
        {
          "output_type": "stream",
          "name": "stdout",
          "text": [
            "hey 60\n"
          ]
        }
      ]
    },
    {
      "cell_type": "code",
      "source": [
        "a=100\n",
        "def func(y):\n",
        "  global a\n",
        "  a=a+y\n",
        "  print(a)\n"
      ],
      "metadata": {
        "id": "M3wRITt2bHVV"
      },
      "execution_count": null,
      "outputs": []
    },
    {
      "cell_type": "code",
      "source": [
        "func(50)\n",
        "print(a)"
      ],
      "metadata": {
        "colab": {
          "base_uri": "https://localhost:8080/"
        },
        "id": "rd4xhsX6c1jQ",
        "outputId": "291c3a39-896a-40cc-c12e-43b632da7c6c"
      },
      "execution_count": null,
      "outputs": [
        {
          "output_type": "stream",
          "name": "stdout",
          "text": [
            "200\n",
            "200\n"
          ]
        }
      ]
    },
    {
      "cell_type": "code",
      "source": [
        "#if global vs local then local will win"
      ],
      "metadata": {
        "id": "xGFDbbnmdpLz"
      },
      "execution_count": null,
      "outputs": []
    },
    {
      "cell_type": "code",
      "source": [
        "#func(a)=> here a is parameter\n",
        "#func(10)=> here 10 is a argument"
      ],
      "metadata": {
        "id": "uzu8H9l6eYTB"
      },
      "execution_count": null,
      "outputs": []
    },
    {
      "cell_type": "code",
      "source": [
        "##the value will according to the position only"
      ],
      "metadata": {
        "id": "-F9XSEOLfK-N"
      },
      "execution_count": null,
      "outputs": []
    },
    {
      "cell_type": "code",
      "source": [
        "def func(a,b):\n",
        "  print(a,b)\n",
        "func(10,15)"
      ],
      "metadata": {
        "colab": {
          "base_uri": "https://localhost:8080/"
        },
        "id": "0DdVjq8Af7fh",
        "outputId": "d109bff2-9573-4363-d926-c1b744236b6a"
      },
      "execution_count": null,
      "outputs": [
        {
          "output_type": "stream",
          "name": "stdout",
          "text": [
            "10 15\n"
          ]
        }
      ]
    },
    {
      "cell_type": "code",
      "source": [
        "#keyword argument\n",
        "\n",
        "func(b=14,a=15)\n"
      ],
      "metadata": {
        "colab": {
          "base_uri": "https://localhost:8080/"
        },
        "id": "WicIYoXvf5Kc",
        "outputId": "960a9e4e-90ac-4d18-ed72-15cb5e6a8faa"
      },
      "execution_count": null,
      "outputs": [
        {
          "output_type": "stream",
          "name": "stdout",
          "text": [
            "15 14\n"
          ]
        }
      ]
    },
    {
      "cell_type": "code",
      "source": [
        "def func(x,y):\n",
        "  print(\"x:\",x,\"y:\",y)"
      ],
      "metadata": {
        "id": "JT-8Df3eg6iQ"
      },
      "execution_count": null,
      "outputs": []
    },
    {
      "cell_type": "code",
      "source": [
        "func(y=10,x=15)"
      ],
      "metadata": {
        "colab": {
          "base_uri": "https://localhost:8080/"
        },
        "id": "oavicznkg5aB",
        "outputId": "5082a643-548a-41cf-bf75-aa767c483155"
      },
      "execution_count": null,
      "outputs": [
        {
          "output_type": "stream",
          "name": "stdout",
          "text": [
            "x: 15 y: 10\n"
          ]
        }
      ]
    },
    {
      "cell_type": "code",
      "source": [
        "func(10,y=15)"
      ],
      "metadata": {
        "colab": {
          "base_uri": "https://localhost:8080/"
        },
        "id": "0j5IYxQjhTsk",
        "outputId": "520526c8-e129-4657-9efa-0139a8c9e9f8"
      },
      "execution_count": null,
      "outputs": [
        {
          "output_type": "stream",
          "name": "stdout",
          "text": [
            "x: 10 y: 15\n"
          ]
        }
      ]
    },
    {
      "cell_type": "code",
      "source": [
        "#how to make default argument"
      ],
      "metadata": {
        "id": "auVL2SBhhymN"
      },
      "execution_count": null,
      "outputs": []
    },
    {
      "cell_type": "code",
      "source": [
        "def func(a,b=35):\n",
        "  print(a,b)"
      ],
      "metadata": {
        "id": "CwAhA30lh_Zd"
      },
      "execution_count": null,
      "outputs": []
    },
    {
      "cell_type": "code",
      "source": [
        "#default argument can be made only at the time of\n",
        "#making a function"
      ],
      "metadata": {
        "id": "GiJQIHfEiINZ"
      },
      "execution_count": null,
      "outputs": []
    },
    {
      "cell_type": "code",
      "source": [
        "func(15,36)"
      ],
      "metadata": {
        "colab": {
          "base_uri": "https://localhost:8080/"
        },
        "id": "qGLooxhpiHZU",
        "outputId": "4bf71c98-9d43-435b-ec36-f982e924842f"
      },
      "execution_count": null,
      "outputs": [
        {
          "output_type": "stream",
          "name": "stdout",
          "text": [
            "15 36\n"
          ]
        }
      ]
    },
    {
      "cell_type": "code",
      "source": [
        "func(15)"
      ],
      "metadata": {
        "colab": {
          "base_uri": "https://localhost:8080/"
        },
        "id": "rBUo21H0iXP3",
        "outputId": "359cc21d-52f6-4b54-f166-cc54160b0651"
      },
      "execution_count": null,
      "outputs": [
        {
          "output_type": "stream",
          "name": "stdout",
          "text": [
            "15 35\n"
          ]
        }
      ]
    },
    {
      "cell_type": "code",
      "source": [
        "##Variable length argument"
      ],
      "metadata": {
        "id": "OhWn0U9NicDv"
      },
      "execution_count": null,
      "outputs": []
    },
    {
      "cell_type": "code",
      "source": [
        "def func(*args):\n",
        "  print(\"args\",args)\n",
        "func(90)\n"
      ],
      "metadata": {
        "colab": {
          "base_uri": "https://localhost:8080/"
        },
        "id": "AAzGrJ8tieYz",
        "outputId": "0ce6e314-2650-4427-f426-74dc93126301"
      },
      "execution_count": null,
      "outputs": [
        {
          "output_type": "stream",
          "name": "stdout",
          "text": [
            "args (90,)\n"
          ]
        }
      ]
    },
    {
      "cell_type": "code",
      "source": [
        "#args=arguments\n",
        "#it take by default value as tuple"
      ],
      "metadata": {
        "id": "GfSMGg-RjWpa"
      },
      "execution_count": null,
      "outputs": []
    },
    {
      "cell_type": "code",
      "source": [
        "def func(*x):\n",
        "  print(\"args\",x)\n",
        "func(90)\n"
      ],
      "metadata": {
        "colab": {
          "base_uri": "https://localhost:8080/"
        },
        "id": "uyjrmhp4jjbL",
        "outputId": "17f071e2-324a-4deb-de09-fccc495499aa"
      },
      "execution_count": null,
      "outputs": [
        {
          "output_type": "stream",
          "name": "stdout",
          "text": [
            "args (90,)\n"
          ]
        }
      ]
    },
    {
      "cell_type": "code",
      "source": [
        "func(89)"
      ],
      "metadata": {
        "colab": {
          "base_uri": "https://localhost:8080/"
        },
        "id": "CaDLvOeujpC4",
        "outputId": "dfb12e7a-f296-4325-d846-f786088e2f44"
      },
      "execution_count": null,
      "outputs": [
        {
          "output_type": "stream",
          "name": "stdout",
          "text": [
            "args (89,)\n"
          ]
        }
      ]
    },
    {
      "cell_type": "code",
      "source": [
        "#its alternative is keyword variable length argument\n",
        "#isme double star lgane hai (**)"
      ],
      "metadata": {
        "id": "tijm9Aaqj7lA"
      },
      "execution_count": null,
      "outputs": []
    },
    {
      "cell_type": "code",
      "source": [
        "def func(**kwargs):\n",
        "  print(\"kwargs:\",kwargs)\n",
        "func(a=15,b=999,c=90)"
      ],
      "metadata": {
        "colab": {
          "base_uri": "https://localhost:8080/"
        },
        "id": "RYTUDMlMkGrQ",
        "outputId": "24b4cc15-3127-45f2-a2c0-17d161874b31"
      },
      "execution_count": null,
      "outputs": [
        {
          "output_type": "stream",
          "name": "stdout",
          "text": [
            "kwargs: {'a': 15, 'b': 999, 'c': 90}\n"
          ]
        }
      ]
    },
    {
      "cell_type": "code",
      "source": [
        "# #interview question\n",
        "# difference between args and kwargs???\n"
      ],
      "metadata": {
        "id": "rLlwzchbkek6"
      },
      "execution_count": null,
      "outputs": []
    },
    {
      "cell_type": "code",
      "source": [],
      "metadata": {
        "id": "HnIHsTzzkuTa"
      },
      "execution_count": null,
      "outputs": []
    },
    {
      "cell_type": "code",
      "source": [
        "# ##write a function which takes n as a parameter\n",
        "# where n is a fibonacci series  and find the nth term of\n",
        "# the series using user input"
      ],
      "metadata": {
        "id": "JIv4aBMck8G5"
      },
      "execution_count": null,
      "outputs": []
    },
    {
      "cell_type": "code",
      "source": [
        "def func():\n",
        "  a=int(input(\"enter the term :\"))\n",
        "  fibo=[0,1]\n",
        "\n",
        "  if a==1:\n",
        "    print(fibo[0])\n",
        "  elif a==2:\n",
        "    print(fibo[1])\n",
        "  else:\n",
        "    for i in range(2,a):\n",
        "      nextfibo=fibo[i-1]+fibo[i-2]\n",
        "      fibo.append(nextfibo)\n",
        "    print(fibo)"
      ],
      "metadata": {
        "id": "5VsJJLWZlPvv"
      },
      "execution_count": 102,
      "outputs": []
    },
    {
      "cell_type": "code",
      "source": [
        "func()"
      ],
      "metadata": {
        "colab": {
          "base_uri": "https://localhost:8080/"
        },
        "id": "67tuA5DPnKCv",
        "outputId": "db8df532-6a33-45c9-97d4-2355f9ec525f"
      },
      "execution_count": 103,
      "outputs": [
        {
          "output_type": "stream",
          "name": "stdout",
          "text": [
            "enter the term :10\n",
            "[0, 1, 1, 2, 3, 5, 8, 13, 21, 34]\n"
          ]
        }
      ]
    },
    {
      "cell_type": "code",
      "source": [
        "#take a as a parameter in function check whether the parameter\n",
        "#is prime or not"
      ],
      "metadata": {
        "id": "S4xy2eYBma86"
      },
      "execution_count": null,
      "outputs": []
    },
    {
      "cell_type": "code",
      "source": [
        "def func(a):\n",
        "  n=2\n",
        "  f=0\n",
        "  while(n<a):\n",
        "    if a%n==0:\n",
        "      f=1\n",
        "    n+=1\n",
        "  if f==1 :\n",
        "    print(\"It is not a prime number\")\n",
        "  else:\n",
        "    print(\"It is a prime number\")\n"
      ],
      "metadata": {
        "id": "ANY7951unSjU"
      },
      "execution_count": 97,
      "outputs": []
    },
    {
      "cell_type": "code",
      "source": [
        "func(25)"
      ],
      "metadata": {
        "colab": {
          "base_uri": "https://localhost:8080/"
        },
        "id": "MMmscMfdoaGl",
        "outputId": "95e46c0e-a7ae-46dc-cbd4-873066be07ef"
      },
      "execution_count": 99,
      "outputs": [
        {
          "output_type": "stream",
          "name": "stdout",
          "text": [
            "It is not a prime number\n"
          ]
        }
      ]
    },
    {
      "cell_type": "code",
      "source": [
        "#make a function which take 2 parameters\n",
        "# and find out HCF\n"
      ],
      "metadata": {
        "id": "sCfDlRFyokcV"
      },
      "execution_count": null,
      "outputs": []
    },
    {
      "cell_type": "code",
      "source": [
        "def func(a, b):\n",
        "    hcf = 1\n",
        "    if a < b:\n",
        "        min=a\n",
        "    else:\n",
        "        min=b\n",
        "    for n in range(min, 0, -1):\n",
        "        if a % n == 0 and b % n == 0:\n",
        "            hcf = n\n",
        "            break\n",
        "\n",
        "    print(hcf)\n"
      ],
      "metadata": {
        "id": "765tzm7mouSj"
      },
      "execution_count": 94,
      "outputs": []
    },
    {
      "cell_type": "code",
      "source": [
        "func(40,20)"
      ],
      "metadata": {
        "colab": {
          "base_uri": "https://localhost:8080/"
        },
        "id": "3by8AUt6qjtO",
        "outputId": "57e80e75-b1cf-4411-e52e-02fbf67026aa"
      },
      "execution_count": 96,
      "outputs": [
        {
          "output_type": "stream",
          "name": "stdout",
          "text": [
            "20\n"
          ]
        }
      ]
    },
    {
      "cell_type": "code",
      "source": [
        "def func(a):\n",
        "  dict={}\n",
        "  sum=0\n",
        "  temp=a\n",
        "  while(a>0):\n",
        "    rem=a%10\n",
        "    sum=sum*10+rem\n",
        "    a//=10\n",
        "  if(sum==temp):\n",
        "    print(\"Palindrome\")\n",
        "    dict[temp]=\"True\"\n",
        "  else:\n",
        "    print(\"not palindrome\")\n",
        "    dict[temp]=\"False\"\n",
        "  print(dict)\n"
      ],
      "metadata": {
        "id": "WT8IEAY4r2y3"
      },
      "execution_count": 91,
      "outputs": []
    },
    {
      "cell_type": "code",
      "source": [
        "func(12231)"
      ],
      "metadata": {
        "colab": {
          "base_uri": "https://localhost:8080/"
        },
        "id": "Blvqk67ts8ef",
        "outputId": "cd153f56-6009-4ca6-fea8-1889d85b4847"
      },
      "execution_count": 93,
      "outputs": [
        {
          "output_type": "stream",
          "name": "stdout",
          "text": [
            "not palindrome\n",
            "{12231: 'False'}\n"
          ]
        }
      ]
    }
  ]
}