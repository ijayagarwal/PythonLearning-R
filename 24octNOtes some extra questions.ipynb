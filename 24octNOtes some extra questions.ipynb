{
  "nbformat": 4,
  "nbformat_minor": 0,
  "metadata": {
    "colab": {
      "provenance": []
    },
    "kernelspec": {
      "name": "python3",
      "display_name": "Python 3"
    },
    "language_info": {
      "name": "python"
    }
  },
  "cells": [
    {
      "cell_type": "code",
      "execution_count": 12,
      "metadata": {
        "colab": {
          "base_uri": "https://localhost:8080/"
        },
        "id": "sXwUgtvitJ6Y",
        "outputId": "a5144280-c190-4b15-9d02-c48872b3f3bc"
      },
      "outputs": [
        {
          "output_type": "stream",
          "name": "stdout",
          "text": [
            "this is monotonic list\n"
          ]
        }
      ],
      "source": [
        "##find whether the number is monotonic or not\n",
        "#[1,2,3,4] or [4,3,2,1]\n",
        "\n",
        "mylist=[4,3,2,1]\n",
        "for i in range(len(mylist)):\n",
        "  if((mylist[0]<mylist[1] and mylist[1]<mylist[2] and mylist[2]<mylist[3]) or (mylist[0]>mylist[1] and mylist[1]>mylist[2] and mylist[2]>mylist[3])):\n",
        "    print(\"this is monotonic list\")\n",
        "    break\n",
        "  else:\n",
        "    print(\"this is not a monotonic list\")"
      ]
    },
    {
      "cell_type": "code",
      "source": [
        "##sir's method\n",
        "x=0\n",
        "\n",
        "mylist=[4,3,2,1]\n",
        "for index in range(1,len(mylist)):\n",
        "  if (mylist[index]< mylist[index-1]):\n",
        "    x=1\n",
        "    break\n",
        "  elif(mylist[index]> mylist[index-1]):\n",
        "    x=0\n",
        "    break\n",
        "if(x==1):\n",
        "  print(\"non monotonic\")\n",
        "else:\n",
        "  print(\"monotonic\")\n"
      ],
      "metadata": {
        "colab": {
          "base_uri": "https://localhost:8080/"
        },
        "id": "6Ond0gT9u74y",
        "outputId": "4b116c9e-30c8-4927-d1ef-36537e5bdb06"
      },
      "execution_count": 17,
      "outputs": [
        {
          "output_type": "stream",
          "name": "stdout",
          "text": [
            "non monotonic\n"
          ]
        }
      ]
    },
    {
      "cell_type": "code",
      "source": [
        "##find whether the number is monotonic or not\n",
        "#[1,2,3,4] or [4,3,2,1]\n",
        "x=0\n",
        "mylist=[1,3,2,6]\n",
        "for i in range(len(mylist)):\n",
        "  if(mylist[i]>mylist[i-1]):\n",
        "    print(\"this is monotonic list\")\n",
        "    break\n",
        "  else:\n",
        "    print(\"this is not a monotonic list\")"
      ],
      "metadata": {
        "colab": {
          "base_uri": "https://localhost:8080/"
        },
        "id": "mox7bUXGyWv9",
        "outputId": "c9ecdf14-a06e-474d-84e9-313b6d53f616"
      },
      "execution_count": 21,
      "outputs": [
        {
          "output_type": "stream",
          "name": "stdout",
          "text": [
            "this is monotonic list\n"
          ]
        }
      ]
    },
    {
      "cell_type": "code",
      "source": [
        "##assignment write complete logic of monotonic number"
      ],
      "metadata": {
        "id": "vToRdKO5zlgH"
      },
      "execution_count": null,
      "outputs": []
    },
    {
      "cell_type": "code",
      "source": [
        "# ## disarium number\n",
        "\n",
        "# what is disarium number?\n",
        "# if number is 89\n",
        "# then 8^1 + 9^2 = 89 then it is a disarium number\n",
        "\n"
      ],
      "metadata": {
        "id": "aofaiQLwtUhj"
      },
      "execution_count": 24,
      "outputs": []
    },
    {
      "cell_type": "code",
      "source": [
        "n=(input(\"enter the number:\"))\n",
        "count=len(n)\n",
        "num=int(n)\n",
        "temp=num\n",
        "sum=0\n",
        "while(num>0 and count>0):\n",
        "  rem=num%10\n",
        "  sum=sum+(rem**count)\n",
        "  num=num//10\n",
        "  count-=1\n",
        "if(sum==temp):\n",
        "  print(\"disarium\")\n",
        "else:\n",
        "  print(\"not dissarium\")\n",
        ""
      ],
      "metadata": {
        "colab": {
          "base_uri": "https://localhost:8080/"
        },
        "id": "t2BYOX--0Q64",
        "outputId": "df9e9a6f-5cce-40a3-85d9-d76759e502eb"
      },
      "execution_count": 36,
      "outputs": [
        {
          "output_type": "stream",
          "name": "stdout",
          "text": [
            "enter the number:65\n",
            "not dissarium\n"
          ]
        }
      ]
    },
    {
      "cell_type": "code",
      "source": [
        "##find whether the number is harshad number or not\n",
        "## if the sum of digits of the number is dividing the number completely\n",
        "## it means it is a harshad number"
      ],
      "metadata": {
        "id": "GZJg82kPztQf"
      },
      "execution_count": 40,
      "outputs": []
    },
    {
      "cell_type": "code",
      "source": [
        "n=int(input(\"enter the number:\"))\n",
        "sum=0\n",
        "temp=n\n",
        "while(n>0):\n",
        "  rem=n%10\n",
        "  sum=sum+rem\n",
        "  n=n//10\n",
        "if(temp%sum==0):\n",
        "  print(\"harshad number\")\n",
        "else:\n",
        "  print(\"not a harshad number\")"
      ],
      "metadata": {
        "colab": {
          "base_uri": "https://localhost:8080/"
        },
        "id": "QMpS9sfh3eZI",
        "outputId": "6c6f3197-7605-47f6-d0fc-29599fad8d7e"
      },
      "execution_count": 44,
      "outputs": [
        {
          "output_type": "stream",
          "name": "stdout",
          "text": [
            "enter the number:18\n",
            "harshad number\n"
          ]
        }
      ]
    },
    {
      "cell_type": "code",
      "source": [
        "# ##learning assignment at the class\n",
        "# read about zip and enumerate\n"
      ],
      "metadata": {
        "id": "q9ZFVR-65I45"
      },
      "execution_count": null,
      "outputs": []
    }
  ]
}