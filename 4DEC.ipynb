{
  "nbformat": 4,
  "nbformat_minor": 0,
  "metadata": {
    "colab": {
      "provenance": []
    },
    "kernelspec": {
      "name": "python3",
      "display_name": "Python 3"
    },
    "language_info": {
      "name": "python"
    }
  },
  "cells": [
    {
      "cell_type": "code",
      "execution_count": 5,
      "metadata": {
        "colab": {
          "base_uri": "https://localhost:8080/"
        },
        "id": "_7DTiKZgFzSE",
        "outputId": "248b7d46-8545-475b-837e-904eba396a8f"
      },
      "outputs": [
        {
          "output_type": "execute_result",
          "data": {
            "text/plain": [
              "15"
            ]
          },
          "metadata": {},
          "execution_count": 5
        }
      ],
      "source": [
        "numbers=[1,2,3,4,5]\n",
        "def sumoflist(numbers):\n",
        "  total=0\n",
        "  for num in numbers:\n",
        "    total+=num\n",
        "  return total\n",
        "\n",
        "sumoflist([1,2,3,4,5])"
      ]
    },
    {
      "cell_type": "code",
      "source": [
        "mylist=[1,2,2,3,4,5]\n",
        "uniqueitems=[]\n",
        "for item in mylist:\n",
        "  if item not in uniqueitems:\n",
        "    uniqueitems.append(item)\n",
        "print(uniqueitems)"
      ],
      "metadata": {
        "colab": {
          "base_uri": "https://localhost:8080/"
        },
        "id": "PcFk5CqEGdix",
        "outputId": "d814e346-f535-4af9-ac48-b6cb71550b33"
      },
      "execution_count": 7,
      "outputs": [
        {
          "output_type": "stream",
          "name": "stdout",
          "text": [
            "[1, 2, 3, 4, 5]\n"
          ]
        }
      ]
    },
    {
      "cell_type": "code",
      "source": [
        "square=lambda x:x*x\n",
        "print(square(5))"
      ],
      "metadata": {
        "colab": {
          "base_uri": "https://localhost:8080/"
        },
        "id": "PY5jfqliGos3",
        "outputId": "a75ca71e-4918-480a-cd0e-ed18a9a44496"
      },
      "execution_count": 9,
      "outputs": [
        {
          "output_type": "stream",
          "name": "stdout",
          "text": [
            "25\n"
          ]
        }
      ]
    },
    {
      "cell_type": "code",
      "source": [
        "mylist=[1,2,3,4,5]\n",
        "n=2\n",
        "length=len(mylist)\n",
        "n=n%length\n",
        "result=[]\n",
        "for i in range(length-n,length):\n",
        "  result.append(mylist[i])\n",
        "for i in range(0,length-n):\n",
        "  result.append(mylist[i])\n",
        "print(result)"
      ],
      "metadata": {
        "colab": {
          "base_uri": "https://localhost:8080/"
        },
        "id": "wDK0VdkPGwOo",
        "outputId": "1c55d694-d905-4e4f-f47e-5dc2b8d746ff"
      },
      "execution_count": 30,
      "outputs": [
        {
          "output_type": "stream",
          "name": "stdout",
          "text": [
            "[4, 5, 1, 2, 3]\n"
          ]
        }
      ]
    },
    {
      "cell_type": "code",
      "source": [
        "mydict={'a':1,'b':2}\n",
        "nestedlist=[]\n",
        "for key,value in mydict.items():\n",
        "  nestedlist.append([key,value])\n",
        "print(nestedlist)"
      ],
      "metadata": {
        "colab": {
          "base_uri": "https://localhost:8080/"
        },
        "id": "BZVPwISgG_kp",
        "outputId": "9f9a2cff-6778-49a9-90f5-2e8add5302dd"
      },
      "execution_count": 11,
      "outputs": [
        {
          "output_type": "stream",
          "name": "stdout",
          "text": [
            "[['a', 1], ['b', 2]]\n"
          ]
        }
      ]
    },
    {
      "cell_type": "code",
      "source": [
        "tuple1=(1,2)\n",
        "tuple2=(3,4)\n",
        "mylist=[]\n",
        "for i in tuple1:\n",
        "  for j in tuple2:\n",
        "    mylist.append((i,j))\n",
        "print(mylist)"
      ],
      "metadata": {
        "colab": {
          "base_uri": "https://localhost:8080/"
        },
        "id": "F39XM8SPHSQd",
        "outputId": "ef5ed2bf-1206-47c2-90a7-98f8c57c847c"
      },
      "execution_count": 12,
      "outputs": [
        {
          "output_type": "stream",
          "name": "stdout",
          "text": [
            "[(1, 3), (1, 4), (2, 3), (2, 4)]\n"
          ]
        }
      ]
    },
    {
      "cell_type": "code",
      "source": [
        "n=5\n",
        "for i in range(n):\n",
        "  value=1\n",
        "  for j in range(i+1):\n",
        "    print(value,end=\" \")\n",
        "    value=value*(i-j)//(j+1)\n",
        "  print()"
      ],
      "metadata": {
        "colab": {
          "base_uri": "https://localhost:8080/"
        },
        "id": "nLKDFMICHmJG",
        "outputId": "ce59941c-e0a6-4ea5-870b-7e5a1492c484"
      },
      "execution_count": 15,
      "outputs": [
        {
          "output_type": "stream",
          "name": "stdout",
          "text": [
            "1 \n",
            "1 1 \n",
            "1 2 1 \n",
            "1 3 3 1 \n",
            "1 4 6 4 1 \n"
          ]
        }
      ]
    },
    {
      "cell_type": "code",
      "source": [
        "list1=[1,2,3,4,5]\n",
        "list2=[3,4]\n",
        "for i in range(len(list1)-len(list2)+1):\n",
        "  if list1[i:i+len(list2)]==list2:\n",
        "    print(\"true\")\n",
        ""
      ],
      "metadata": {
        "colab": {
          "base_uri": "https://localhost:8080/"
        },
        "id": "VlzG8h9GH8y1",
        "outputId": "13ed1c87-477d-4969-8729-443eedba275e"
      },
      "execution_count": 29,
      "outputs": [
        {
          "output_type": "stream",
          "name": "stdout",
          "text": [
            "true\n"
          ]
        }
      ]
    },
    {
      "cell_type": "code",
      "source": [
        "data={'a':{'b':{'c':42}}}\n",
        "key='c'\n",
        "if key in data:\n",
        "  print(\"true\")"
      ],
      "metadata": {
        "id": "SJzXkQCfQG3K"
      },
      "execution_count": 32,
      "outputs": []
    }
  ]
}