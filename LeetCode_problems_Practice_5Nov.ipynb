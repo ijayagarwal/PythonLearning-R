{
  "nbformat": 4,
  "nbformat_minor": 0,
  "metadata": {
    "colab": {
      "provenance": []
    },
    "kernelspec": {
      "name": "python3",
      "display_name": "Python 3"
    },
    "language_info": {
      "name": "python"
    }
  },
  "cells": [
    {
      "cell_type": "code",
      "execution_count": null,
      "metadata": {
        "id": "31JHZUlpV6WI"
      },
      "outputs": [],
      "source": [
        "## leetcode problem no. 205\n",
        "## isomorphic strings"
      ]
    },
    {
      "cell_type": "code",
      "source": [
        "## the above questions has different approaches to solve"
      ],
      "metadata": {
        "id": "S_Ds46umaExg"
      },
      "execution_count": null,
      "outputs": []
    },
    {
      "cell_type": "code",
      "source": [
        "# the shortest one\n",
        "def isIsomorphic(self, s: str, t: str) -> bool:\n",
        "        return [s.index(char) for char in s] == [t.index(char) for char in t]"
      ],
      "metadata": {
        "id": "vePzKgDHaH8c"
      },
      "execution_count": null,
      "outputs": []
    },
    {
      "cell_type": "code",
      "source": [
        "#2 method\n",
        "#  Mapping Patterns Using Arrays\n",
        "# Description: Use arrays to track the mappings by recording the last seen position of each character in s and t.\n",
        "# Process:\n",
        "# Initialize two arrays with a size equal to the maximum possible characters (e.g., 256 for ASCII).\n",
        "# Loop through both strings, recording and checking positions. If they don’t match, return False.\n",
        "\n",
        "# Code:\n",
        "# python\n",
        "def isIsomorphic(s: str, t: str) -> bool:\n",
        "    s_pos = [-1] * 256\n",
        "    t_pos = [-1] * 256\n",
        "\n",
        "    for i in range(len(s)):\n",
        "        if s_pos[ord(s[i])] != t_pos[ord(t[i])]:\n",
        "            return False\n",
        "        s_pos[ord(s[i])] = i\n",
        "        t_pos[ord(t[i])] = i\n",
        "\n",
        "    return True"
      ],
      "metadata": {
        "id": "JCmN4Ba1aMDC"
      },
      "execution_count": null,
      "outputs": []
    },
    {
      "cell_type": "code",
      "source": [
        "#3\n",
        "# Single HashMap + Set Approach\n",
        "# Description: Use a single dictionary to map s characters to t characters and a set to track characters already mapped in t.\n",
        "# Process:\n",
        "# Loop through both strings, and for each character in s:\n",
        "# Check if the character is already mapped.\n",
        "# If it’s not mapped, ensure the corresponding t character hasn’t already been mapped to another character by checking the set.\n",
        "# If it passes, add the character to the dictionary and mark it in the set.\n",
        "\n",
        "# Code:\n",
        "# python\n",
        "def isIsomorphic(s: str, t: str) -> bool:\n",
        "    if len(s) != len(t):\n",
        "        return False\n",
        "\n",
        "    s_to_t = {}\n",
        "    mapped_t_chars = set()\n",
        "\n",
        "    for i in range(len(s)):\n",
        "        char_s = s[i]\n",
        "        char_t = t[i]\n",
        "\n",
        "        if char_s in s_to_t:\n",
        "            if s_to_t[char_s] != char_t:\n",
        "                return False\n",
        "        else:\n",
        "            if char_t in mapped_t_chars:\n",
        "                return False\n",
        "            s_to_t[char_s] = char_t\n",
        "            mapped_t_chars.add(char_t)\n",
        "\n",
        "    return True"
      ],
      "metadata": {
        "id": "yWQLv6piatD7"
      },
      "execution_count": null,
      "outputs": []
    },
    {
      "cell_type": "code",
      "source": [
        "#4.\n",
        "# Two-HashMap Approach\n",
        "# Description: Use two dictionaries to map characters from s to t and vice versa.\n",
        "# Process:\n",
        "# Create two dictionaries: s_to_t for mapping characters in s to characters in t, and t_to_s for the reverse mapping.\n",
        "# For each character in s and t, check if mappings already exist. If a mapping conflicts, return False.\n",
        "# If no conflicts are found, the strings are isomorphic.\n",
        "\n",
        "def isIsomorphic(s: str, t: str) -> bool:\n",
        "    if len(s) != len(t):\n",
        "        return False\n",
        "\n",
        "    s_to_t = {}\n",
        "    t_to_s = {}\n",
        "\n",
        "    for i in range(len(s)):\n",
        "        char_s = s[i]\n",
        "        char_t = t[i]\n",
        "\n",
        "        if (char_s in s_to_t and s_to_t[char_s] != char_t) or (char_t in t_to_s and t_to_s[char_t] != char_s):\n",
        "            return False\n",
        "\n",
        "        s_to_t[char_s] = char_t\n",
        "        t_to_s[char_t] = char_s\n",
        "\n",
        "    return True"
      ],
      "metadata": {
        "id": "SA3Hv7CPa_nK"
      },
      "execution_count": null,
      "outputs": []
    },
    {
      "cell_type": "code",
      "source": [],
      "metadata": {
        "id": "McXkx0MsbVXf"
      },
      "execution_count": null,
      "outputs": []
    },
    {
      "cell_type": "code",
      "source": [
        "##problem no. 125\n",
        "\n",
        "def isPalindrome(self, s: str) -> bool:\n",
        "        filtered=''.join([char.lower() for char in s if char.isalnum()])\n",
        "        return filtered==filtered[::-1]\n",
        ""
      ],
      "metadata": {
        "id": "4SQilkaubVUK"
      },
      "execution_count": null,
      "outputs": []
    },
    {
      "cell_type": "code",
      "source": [
        "## problem no. 242 valid anagram\n",
        "\n",
        "def isAnagram(self, s: str, t: str) -> bool:\n",
        "        if sorted(s)==sorted(t):\n",
        "            return True\n",
        "        else:\n",
        "            return False"
      ],
      "metadata": {
        "id": "mHtQXLs7eO3r"
      },
      "execution_count": null,
      "outputs": []
    }
  ]
}