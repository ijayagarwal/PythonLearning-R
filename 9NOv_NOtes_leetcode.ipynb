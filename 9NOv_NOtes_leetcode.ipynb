{
  "nbformat": 4,
  "nbformat_minor": 0,
  "metadata": {
    "colab": {
      "provenance": []
    },
    "kernelspec": {
      "name": "python3",
      "display_name": "Python 3"
    },
    "language_info": {
      "name": "python"
    }
  },
  "cells": [
    {
      "cell_type": "code",
      "execution_count": null,
      "metadata": {
        "id": "xlBRFnA5CHTp"
      },
      "outputs": [],
      "source": [
        "# Collections\n",
        "# Module-: Package-> functionality\n",
        "# => python collection"
      ]
    },
    {
      "cell_type": "code",
      "source": [
        "import collections as c\n",
        "c.Counter()"
      ],
      "metadata": {
        "colab": {
          "base_uri": "https://localhost:8080/"
        },
        "id": "grhfMkjtE3S8",
        "outputId": "6d464773-5ecb-4a90-f681-521fc68d3746"
      },
      "execution_count": 2,
      "outputs": [
        {
          "output_type": "execute_result",
          "data": {
            "text/plain": [
              "Counter()"
            ]
          },
          "metadata": {},
          "execution_count": 2
        }
      ]
    },
    {
      "cell_type": "code",
      "source": [
        "#different method\n",
        "from collections import Counter\n",
        "mylist=[10,20,30,40,40,60,\"a\"]\n",
        "Counter(mylist)"
      ],
      "metadata": {
        "colab": {
          "base_uri": "https://localhost:8080/"
        },
        "id": "ngjcsEY-FRc4",
        "outputId": "365ac58f-0615-4c24-9a91-9d989dda7ae6"
      },
      "execution_count": 4,
      "outputs": [
        {
          "output_type": "execute_result",
          "data": {
            "text/plain": [
              "Counter({10: 1, 20: 1, 30: 1, 40: 2, 60: 1, 'a': 1})"
            ]
          },
          "metadata": {},
          "execution_count": 4
        }
      ]
    },
    {
      "cell_type": "code",
      "source": [
        "Counter(x=10,y=20)"
      ],
      "metadata": {
        "colab": {
          "base_uri": "https://localhost:8080/"
        },
        "id": "QkNM-wDYFsvU",
        "outputId": "2e631ad9-74a3-4dbb-8738-d8581756e781"
      },
      "execution_count": 5,
      "outputs": [
        {
          "output_type": "execute_result",
          "data": {
            "text/plain": [
              "Counter({'x': 10, 'y': 20})"
            ]
          },
          "metadata": {},
          "execution_count": 5
        }
      ]
    },
    {
      "cell_type": "code",
      "source": [
        "a=Counter(x=10,y=20)\n",
        "a.update([20,70])\n",
        "print(a)"
      ],
      "metadata": {
        "colab": {
          "base_uri": "https://localhost:8080/"
        },
        "id": "vhhTXWIdFscd",
        "outputId": "ee0154a4-3fd0-43d9-b79d-e8cbabdc3cd8"
      },
      "execution_count": 6,
      "outputs": [
        {
          "output_type": "stream",
          "name": "stdout",
          "text": [
            "Counter({'y': 20, 'x': 10, 20: 1, 70: 1})\n"
          ]
        }
      ]
    },
    {
      "cell_type": "code",
      "source": [
        "a.most_common(2)"
      ],
      "metadata": {
        "colab": {
          "base_uri": "https://localhost:8080/"
        },
        "id": "wSTCTcLVGWiE",
        "outputId": "672bd50f-1911-4096-a3cd-88ca42731401"
      },
      "execution_count": 8,
      "outputs": [
        {
          "output_type": "execute_result",
          "data": {
            "text/plain": [
              "[('y', 20), ('x', 10)]"
            ]
          },
          "metadata": {},
          "execution_count": 8
        }
      ]
    },
    {
      "cell_type": "code",
      "source": [
        "print(a)\n",
        "list(a.elements())\n"
      ],
      "metadata": {
        "colab": {
          "base_uri": "https://localhost:8080/"
        },
        "id": "ta9dy7ZlGkvK",
        "outputId": "3d647361-8157-4e34-8353-5efaee067810"
      },
      "execution_count": 14,
      "outputs": [
        {
          "output_type": "stream",
          "name": "stdout",
          "text": [
            "Counter({'y': 20, 'x': 10, 20: 1, 70: 1})\n"
          ]
        },
        {
          "output_type": "execute_result",
          "data": {
            "text/plain": [
              "['x',\n",
              " 'x',\n",
              " 'x',\n",
              " 'x',\n",
              " 'x',\n",
              " 'x',\n",
              " 'x',\n",
              " 'x',\n",
              " 'x',\n",
              " 'x',\n",
              " 'y',\n",
              " 'y',\n",
              " 'y',\n",
              " 'y',\n",
              " 'y',\n",
              " 'y',\n",
              " 'y',\n",
              " 'y',\n",
              " 'y',\n",
              " 'y',\n",
              " 'y',\n",
              " 'y',\n",
              " 'y',\n",
              " 'y',\n",
              " 'y',\n",
              " 'y',\n",
              " 'y',\n",
              " 'y',\n",
              " 'y',\n",
              " 'y',\n",
              " 20,\n",
              " 70]"
            ]
          },
          "metadata": {},
          "execution_count": 14
        }
      ]
    },
    {
      "cell_type": "code",
      "source": [
        "from collections import defaultdict"
      ],
      "metadata": {
        "id": "P5ALChAdGour"
      },
      "execution_count": 15,
      "outputs": []
    },
    {
      "cell_type": "code",
      "source": [
        "def func():\n",
        "  return \"Not a Value\""
      ],
      "metadata": {
        "id": "Enj2JrjBI0-v"
      },
      "execution_count": 17,
      "outputs": []
    },
    {
      "cell_type": "code",
      "source": [
        "d=defaultdict(func)\n",
        "#list(),int()\n",
        "d[\"a\"]=10\n",
        "d[\"b\"]\n",
        "print(d.items())"
      ],
      "metadata": {
        "colab": {
          "base_uri": "https://localhost:8080/"
        },
        "id": "tbZ_MY2CHp4Q",
        "outputId": "1883d6f4-d777-4018-d33b-aa5c4f29497f"
      },
      "execution_count": 18,
      "outputs": [
        {
          "output_type": "stream",
          "name": "stdout",
          "text": [
            "dict_items([('a', 10), ('b', 'Not a Value')])\n"
          ]
        }
      ]
    },
    {
      "cell_type": "code",
      "source": [
        "mylist=[(10,\"tushar\"),(20,\"aman\"),(30,\"Jay\")]\n",
        "for data in mylist:\n",
        "  print (data)"
      ],
      "metadata": {
        "colab": {
          "base_uri": "https://localhost:8080/"
        },
        "id": "M1oKFgu7JsHe",
        "outputId": "d9e8bd99-6414-411d-c265-0de92a2b8eea"
      },
      "execution_count": 19,
      "outputs": [
        {
          "output_type": "stream",
          "name": "stdout",
          "text": [
            "(10, 'tushar')\n",
            "(20, 'aman')\n",
            "(30, 'Jay')\n"
          ]
        }
      ]
    },
    {
      "cell_type": "code",
      "source": [
        "mylist=[(10,\"tushar\"),(20,\"aman\"),(30,\"Jay\")]\n",
        "for roll,name in mylist:\n",
        "  print (roll,name)"
      ],
      "metadata": {
        "colab": {
          "base_uri": "https://localhost:8080/"
        },
        "id": "q1mXI3HXKK3Z",
        "outputId": "24ae8ab3-7f1a-4870-cbef-77aeb38d90d6"
      },
      "execution_count": 20,
      "outputs": [
        {
          "output_type": "stream",
          "name": "stdout",
          "text": [
            "10 tushar\n",
            "20 aman\n",
            "30 Jay\n"
          ]
        }
      ]
    },
    {
      "cell_type": "code",
      "source": [
        "mylist=[(10,\"tushar\"),(20,\"aman\"),(30,\"Jay\")]\n",
        "s=defaultdict(list)\n",
        "\n",
        "for roll,name in mylist:\n",
        "  s[roll].append(name)\n",
        "print(s[40])\n",
        "print(s)"
      ],
      "metadata": {
        "colab": {
          "base_uri": "https://localhost:8080/"
        },
        "id": "W61E9Hj8KVA2",
        "outputId": "7e2b00a1-5675-4fe2-a086-4933f789d841"
      },
      "execution_count": 26,
      "outputs": [
        {
          "output_type": "stream",
          "name": "stdout",
          "text": [
            "[]\n",
            "defaultdict(<class 'list'>, {10: ['tushar'], 20: ['aman'], 30: ['Jay'], 40: []})\n"
          ]
        }
      ]
    },
    {
      "cell_type": "code",
      "source": [
        "from collections import OrderedDict"
      ],
      "metadata": {
        "id": "SztNi28ILutZ"
      },
      "execution_count": 27,
      "outputs": []
    },
    {
      "cell_type": "code",
      "source": [
        "o=OrderedDict()\n",
        "o[\"a\"]=1\n",
        "o[\"b\"]=99\n",
        "o[\"aa\"]=1991\n",
        "o.move_to_end(\"b\",last=False)\n",
        "print(o)"
      ],
      "metadata": {
        "colab": {
          "base_uri": "https://localhost:8080/"
        },
        "id": "XiyrNr80LyTO",
        "outputId": "ca9eb84c-01bd-4683-9f0f-40fa5d7f522b"
      },
      "execution_count": 31,
      "outputs": [
        {
          "output_type": "stream",
          "name": "stdout",
          "text": [
            "OrderedDict([('b', 99), ('a', 1), ('aa', 1991)])\n"
          ]
        }
      ]
    },
    {
      "cell_type": "code",
      "source": [
        "# pop.item(\"aa\")"
      ],
      "metadata": {
        "id": "N7v_9vq5Mgvr"
      },
      "execution_count": 33,
      "outputs": []
    },
    {
      "cell_type": "code",
      "source": [
        "# namedtuple()\n",
        "from collections import namedtuple"
      ],
      "metadata": {
        "id": "w69jXZh8Ml_m"
      },
      "execution_count": 34,
      "outputs": []
    },
    {
      "cell_type": "code",
      "source": [
        "Point123=namedtuple('Point',['x','y'])\n",
        "p=Point123(11,22)\n",
        "print(p.x)\n",
        "print(p[1])\n"
      ],
      "metadata": {
        "colab": {
          "base_uri": "https://localhost:8080/"
        },
        "id": "x3KeM7i-NBF6",
        "outputId": "9193adfc-e574-4335-fbb9-7928413ea88c"
      },
      "execution_count": 37,
      "outputs": [
        {
          "output_type": "stream",
          "name": "stdout",
          "text": [
            "11\n",
            "22\n"
          ]
        }
      ]
    },
    {
      "cell_type": "code",
      "source": [
        "p._asdict()\n"
      ],
      "metadata": {
        "colab": {
          "base_uri": "https://localhost:8080/"
        },
        "id": "FHFpzdLuOCcx",
        "outputId": "93ee98ab-9528-4258-e5f0-fa81e5549b07"
      },
      "execution_count": 38,
      "outputs": [
        {
          "output_type": "execute_result",
          "data": {
            "text/plain": [
              "{'x': 11, 'y': 22}"
            ]
          },
          "metadata": {},
          "execution_count": 38
        }
      ]
    },
    {
      "cell_type": "code",
      "source": [
        "p=p._replace(x=199)\n",
        "print(p)"
      ],
      "metadata": {
        "colab": {
          "base_uri": "https://localhost:8080/"
        },
        "id": "jG0VEGuLOQ7L",
        "outputId": "bdf93641-c237-4b83-ce9f-694b2326d07f"
      },
      "execution_count": 40,
      "outputs": [
        {
          "output_type": "stream",
          "name": "stdout",
          "text": [
            "Point(x=199, y=22)\n"
          ]
        }
      ]
    },
    {
      "cell_type": "code",
      "source": [
        "x={\"x\":199,\"y\":25}"
      ],
      "metadata": {
        "id": "kHNB8QfHPNsc"
      },
      "execution_count": 47,
      "outputs": []
    },
    {
      "cell_type": "code",
      "source": [
        "Point123=namedtuple('Point',['x','y'])\n",
        "print(x)\n",
        "Point123(**x)"
      ],
      "metadata": {
        "colab": {
          "base_uri": "https://localhost:8080/"
        },
        "id": "3i1M13-jOv_w",
        "outputId": "a5866188-bba6-4471-eabc-77390b24dcde"
      },
      "execution_count": 48,
      "outputs": [
        {
          "output_type": "stream",
          "name": "stdout",
          "text": [
            "{'x': 199, 'y': 25}\n"
          ]
        },
        {
          "output_type": "execute_result",
          "data": {
            "text/plain": [
              "Point(x=199, y=25)"
            ]
          },
          "metadata": {},
          "execution_count": 48
        }
      ]
    },
    {
      "cell_type": "code",
      "source": [
        "#deque"
      ],
      "metadata": {
        "id": "l5Qc7pWLOZrI"
      },
      "execution_count": null,
      "outputs": []
    },
    {
      "cell_type": "code",
      "source": [
        "#list"
      ],
      "metadata": {
        "id": "AhJdrd7CPb3Y"
      },
      "execution_count": null,
      "outputs": []
    },
    {
      "cell_type": "code",
      "source": [
        "#list=> we use list as a Stack data structure in whole Python"
      ],
      "metadata": {
        "id": "AjxlJHNlPdd5"
      },
      "execution_count": null,
      "outputs": []
    },
    {
      "cell_type": "code",
      "source": [
        "#deque means double ended queue"
      ],
      "metadata": {
        "id": "5Rm6Ack7PrM-"
      },
      "execution_count": null,
      "outputs": []
    },
    {
      "cell_type": "code",
      "source": [
        "from collections import deque"
      ],
      "metadata": {
        "id": "4KD_78kmQZo2"
      },
      "execution_count": 49,
      "outputs": []
    },
    {
      "cell_type": "code",
      "source": [
        "dq=deque([\"tushar\",\"abc\",\"xyz\",20])"
      ],
      "metadata": {
        "id": "-kyYQ9zEQcl-"
      },
      "execution_count": 50,
      "outputs": []
    },
    {
      "cell_type": "code",
      "source": [
        "dq.append(40)"
      ],
      "metadata": {
        "id": "ubxnuHCSQkgY"
      },
      "execution_count": 51,
      "outputs": []
    },
    {
      "cell_type": "code",
      "source": [
        "dq.appendleft(1234)\n",
        "print(dq)"
      ],
      "metadata": {
        "colab": {
          "base_uri": "https://localhost:8080/"
        },
        "id": "SX8N2-z6Qo7t",
        "outputId": "0a3d70fa-ff3e-4a6e-a518-66f6dcec170e"
      },
      "execution_count": 52,
      "outputs": [
        {
          "output_type": "stream",
          "name": "stdout",
          "text": [
            "deque([1234, 'tushar', 'abc', 'xyz', 20, 40])\n"
          ]
        }
      ]
    },
    {
      "cell_type": "code",
      "source": [
        "#leeetcodde 349\n",
        "nums1=[1,2,2,1]\n",
        "nums2=[2,2]\n",
        "m=sorted(nums1)\n",
        "n=sorted(nums2)\n",
        "list1=[]\n",
        "for i in nums1,nums2:\n",
        "    if (i in m) and (i in n):\n",
        "      list1.append(i)\n",
        "print(list1)\n",
        "print(m,n)\n",
        "\n",
        ""
      ],
      "metadata": {
        "colab": {
          "base_uri": "https://localhost:8080/"
        },
        "id": "-KDZKXk_VSBp",
        "outputId": "3284678e-0a45-4e92-e841-f50dca3d2aca"
      },
      "execution_count": 57,
      "outputs": [
        {
          "output_type": "stream",
          "name": "stdout",
          "text": [
            "[]\n",
            "[1, 1, 2, 2] [2, 2]\n"
          ]
        }
      ]
    },
    {
      "cell_type": "code",
      "source": [
        "#leeetcodde 349\n",
        "nums1=[1,2,2,1]\n",
        "nums2=[2,2]\n",
        "list1=[]\n",
        "for i in nums1:\n",
        "  if i in nums2 and i not in list1:\n",
        "    list1.append(i)\n",
        "print(list1)\n",
        "\n",
        ""
      ],
      "metadata": {
        "colab": {
          "base_uri": "https://localhost:8080/"
        },
        "id": "WsbZgm_AW6aN",
        "outputId": "90c1c53a-bacb-4938-f944-4da2092a341b"
      },
      "execution_count": 58,
      "outputs": [
        {
          "output_type": "stream",
          "name": "stdout",
          "text": [
            "[2]\n"
          ]
        }
      ]
    },
    {
      "cell_type": "code",
      "source": [
        "# leetcode 88\n",
        "nums1 = [1,2,3,0,0,0]\n",
        "m = 3\n",
        "nums2 = [2,5,6]\n",
        "n = 3\n",
        "o=nums1[:m]\n",
        "p=nums2[:n]\n",
        "q=o+p\n",
        "r=sorted(q)\n",
        "print(r)"
      ],
      "metadata": {
        "colab": {
          "base_uri": "https://localhost:8080/"
        },
        "id": "Hxwn62YdX7Qv",
        "outputId": "1fc08a83-50ee-4031-e52e-0dc44230006b"
      },
      "execution_count": 67,
      "outputs": [
        {
          "output_type": "stream",
          "name": "stdout",
          "text": [
            "[1, 2, 2, 3, 5, 6]\n"
          ]
        }
      ]
    },
    {
      "cell_type": "code",
      "source": [
        "#leetcode 88 working method\n",
        "nums1 = [1,2,3,0,0,0]\n",
        "m = 3\n",
        "nums2 = [2,5,6]\n",
        "n = 3\n",
        "nums1[m:]=nums2\n",
        "nums1.sort()\n",
        "print(nums1)"
      ],
      "metadata": {
        "colab": {
          "base_uri": "https://localhost:8080/"
        },
        "id": "Dz_u2I2DGk9s",
        "outputId": "a8f458cd-5122-4323-fdf8-d711a5550fd5"
      },
      "execution_count": 2,
      "outputs": [
        {
          "output_type": "stream",
          "name": "stdout",
          "text": [
            "[1, 2, 2, 3, 5, 6]\n"
          ]
        }
      ]
    }
  ]
}