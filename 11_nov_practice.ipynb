{
  "nbformat": 4,
  "nbformat_minor": 0,
  "metadata": {
    "colab": {
      "provenance": []
    },
    "kernelspec": {
      "name": "python3",
      "display_name": "Python 3"
    },
    "language_info": {
      "name": "python"
    }
  },
  "cells": [
    {
      "cell_type": "code",
      "execution_count": 6,
      "metadata": {
        "id": "3nO3MqEhb5SH",
        "colab": {
          "base_uri": "https://localhost:8080/"
        },
        "outputId": "f6caef72-ff56-4cf2-cb21-fee5cc6b11ae"
      },
      "outputs": [
        {
          "output_type": "stream",
          "name": "stdout",
          "text": [
            "-3\n"
          ]
        }
      ],
      "source": [
        "nums = [-1,2,1,-4]\n",
        "target = 1\n",
        "distance=10**10\n",
        "a= sorted(nums)\n",
        "closest=2\n",
        "\n",
        "for i in range(len(a)-2):\n",
        "  j=i+1\n",
        "  k=len(a)-1\n",
        "  sum=target-a[i]\n",
        "  while(k>j):\n",
        "    new=a[j]+a[k]\n",
        "    if (sum>a[j]+a[k]):\n",
        "      j+=1\n",
        "    else:\n",
        "      k-=1\n",
        "    if(abs(sum-target)<abs(sum-)):\n",
        "      print(sum)\n",
        "      break\n",
        "\n",
        "\n",
        "\n",
        ""
      ]
    },
    {
      "cell_type": "code",
      "source": [
        "close=nums[i]+nums[j]"
      ],
      "metadata": {
        "id": "s3-SKyFDmQSS"
      },
      "execution_count": null,
      "outputs": []
    },
    {
      "cell_type": "code",
      "source": [
        "nums = [-1,2,1,-4]\n",
        "target = 1\n",
        "distance=10**10\n",
        "a= sorted(nums)\n",
        "\n",
        "\n",
        "for i in range(len(a)-2):\n",
        "  j=i+1\n",
        "  k=len(a)-1\n",
        "  sum=target-a[i]\n",
        "  while(k>j):\n",
        "    new=a[j]+a[k]\n",
        "    if(abs(distance)> abs(sum-new)):\n",
        "      distance=abs(sum-new)\n",
        "    if(new<target):\n",
        "      j+=1\n",
        "    else:\n",
        "      k-=1\n",
        "print(distance)\n",
        ""
      ],
      "metadata": {
        "colab": {
          "base_uri": "https://localhost:8080/"
        },
        "id": "ifcaDm-WmQEs",
        "outputId": "1c2172ff-f08d-47c8-988c-fcb5379ca50f"
      },
      "execution_count": 8,
      "outputs": [
        {
          "output_type": "stream",
          "name": "stdout",
          "text": [
            "1\n"
          ]
        }
      ]
    },
    {
      "cell_type": "code",
      "source": [
        "class Solution:\n",
        "    def threeSumClosest(self, nums: List[int], target: int) -> int:\n",
        "        distance=10**10\n",
        "        a= sorted(nums)\n",
        "        closest=2\n",
        "\n",
        "        for i in range(len(a)-2):\n",
        "            j=i+1\n",
        "            k=len(a)-1\n",
        "            sum=target-a[i]\n",
        "            while(k>j):\n",
        "                new=a[j]+a[k]\n",
        "                if(abs(distance)> abs(sum-new)):\n",
        "                    distance=abs(sum-new)\n",
        "                if(new==target):\n",
        "                    print(target)\n",
        "                    break\n",
        "                if(new<target):\n",
        "                    j+=1\n",
        "                else:\n",
        "                    k-=1\n",
        "        return distance\n",
        "\n",
        ""
      ],
      "metadata": {
        "id": "G1Oz3-Lf0m9e"
      },
      "execution_count": null,
      "outputs": []
    },
    {
      "cell_type": "code",
      "source": [
        "from typing import List\n",
        "\n",
        "class Solution:\n",
        "    def threeSumClosest(self, nums: List[int], target: int) -> int:\n",
        "        distance = 10**10  # Initial large distance\n",
        "        a = sorted(nums)\n",
        "        closest = 0  # To store the closest sum found\n",
        "\n",
        "        for i in range(len(a) - 2):\n",
        "            j = i + 1\n",
        "            k = len(a) - 1\n",
        "\n",
        "            while k > j:\n",
        "                new = a[i] + a[j] + a[k]  # Sum of three numbers\n",
        "\n",
        "                # Update closest sum if the current one is closer to the target\n",
        "                if abs(target - new) < abs(target - distance):\n",
        "                    distance = new\n",
        "\n",
        "                if new == target:\n",
        "                    return target\n",
        "                elif new < target:\n",
        "                    j += 1\n",
        "                else:\n",
        "                    k -= 1\n",
        "\n",
        "        return distance\n"
      ],
      "metadata": {
        "id": "QTfL1bRz0irS"
      },
      "execution_count": null,
      "outputs": []
    }
  ]
}