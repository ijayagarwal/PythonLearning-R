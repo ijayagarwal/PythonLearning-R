{
  "nbformat": 4,
  "nbformat_minor": 0,
  "metadata": {
    "colab": {
      "provenance": []
    },
    "kernelspec": {
      "name": "python3",
      "display_name": "Python 3"
    },
    "language_info": {
      "name": "python"
    }
  },
  "cells": [
    {
      "cell_type": "code",
      "execution_count": null,
      "metadata": {
        "id": "MdxWnlqaY2vP"
      },
      "outputs": [],
      "source": [
        "#nested list and pascal triangle"
      ]
    },
    {
      "cell_type": "code",
      "source": [
        "mylist=[1,2,[10,20]]\n",
        "mylist[2]"
      ],
      "metadata": {
        "id": "kz7MnYajZkQU"
      },
      "execution_count": null,
      "outputs": []
    },
    {
      "cell_type": "code",
      "source": [
        "#try\n",
        "mylist=[0,1,0]\n",
        "secondrow=[0,mylist[0]+mylist[1] , mylist[1]+mylist[2],0]\n",
        "thirdrow=[0,secondrow[0]+secondrow[1] , secondrow[1]+secondrow[2],secondrow[2]+secondrow[3],0]\n",
        "print(secondrow)\n",
        "print(thirdrow)"
      ],
      "metadata": {
        "colab": {
          "base_uri": "https://localhost:8080/"
        },
        "id": "ikiuY1khbIsr",
        "outputId": "9e312832-e1d4-4fb5-b578-28045ec79d29"
      },
      "execution_count": null,
      "outputs": [
        {
          "output_type": "stream",
          "name": "stdout",
          "text": [
            "[0, 1, 1, 0]\n",
            "[0, 1, 2, 1, 0]\n"
          ]
        }
      ]
    },
    {
      "cell_type": "code",
      "source": [
        "mylist=[[1],[1,1]]\n",
        "for i in range(len(mylist)+1)"
      ],
      "metadata": {
        "id": "jbzi_rjld8rm"
      },
      "execution_count": null,
      "outputs": []
    },
    {
      "cell_type": "markdown",
      "source": [
        "Revision\n",
        "Learning\n",
        "practice\n",
        "miscelleneous"
      ],
      "metadata": {
        "id": "JNlYDZwNnWyW"
      }
    },
    {
      "cell_type": "code",
      "source": [
        "mylist=[[1]]\n",
        "n=int(input(\"enter the number of row:\"))\n",
        "for i in range(0,n-1):\n",
        "  temp=[0]+mylist[-1]+[0]\n",
        "  print(temp)\n",
        "  list1=[]\n",
        "\n",
        "  #[0,1,0], mylist=1\n",
        "  for j in range(len(mylist)+1):\n",
        "    list1.append(temp[j]+temp[j+1])\n",
        "    print(list1)\n",
        "  mylist.append(list1)\n",
        "\n",
        "print(mylist)\n",
        "\n",
        ""
      ],
      "metadata": {
        "colab": {
          "base_uri": "https://localhost:8080/"
        },
        "id": "TvnqK-mTf_rt",
        "outputId": "74de7548-6413-404b-b954-ac1cc695e5e0"
      },
      "execution_count": 8,
      "outputs": [
        {
          "output_type": "stream",
          "name": "stdout",
          "text": [
            "enter the number of row:3\n",
            "[1]\n",
            "[1, 1]\n",
            "[1]\n",
            "[1, 2]\n",
            "[1, 2, 1]\n",
            "[[1], [1, 1], [1, 2, 1]]\n"
          ]
        }
      ]
    },
    {
      "cell_type": "code",
      "source": [
        "mylist=[[1]]\n",
        "n=int(input(\"enter the number of row:\"))\n",
        "for i in range(0,n-1):\n",
        "  temp=[0]+mylist[-1]+[0]\n",
        "\n",
        "  list1=[]\n",
        "  #[0,1,0], mylist=1\n",
        "  for j in range(len(mylist)+1):\n",
        "    list1.append(temp[j]+temp[j+1])\n",
        "  mylist.append(list1)\n",
        "\n",
        "print(mylist)\n",
        "\n",
        ""
      ],
      "metadata": {
        "colab": {
          "base_uri": "https://localhost:8080/"
        },
        "id": "xxzxaJQlqXdR",
        "outputId": "b1515fed-507e-4525-d541-2dd9d7bc8430"
      },
      "execution_count": 10,
      "outputs": [
        {
          "output_type": "stream",
          "name": "stdout",
          "text": [
            "enter the number of row:7\n",
            "[[1], [1, 1], [1, 2, 1], [1, 3, 3, 1], [1, 4, 6, 4, 1], [1, 5, 10, 10, 5, 1], [1, 6, 15, 20, 15, 6, 1]]\n"
          ]
        }
      ]
    },
    {
      "cell_type": "code",
      "source": [
        "listed=[[1]]\n",
        "n=int(input(\"enter number of rows:\"))\n",
        "for i in range(0,n-1):\n",
        "  temp=[0]+listed[-1]+[0]\n",
        "  list1=[]\n",
        "\n",
        "  for j in range(len(listed)+1):\n",
        "    list1.append(temp[j]+temp[j+1])\n",
        "  listed.append(list1)\n",
        "\n",
        "print(listed)"
      ],
      "metadata": {
        "colab": {
          "base_uri": "https://localhost:8080/"
        },
        "id": "_8ygQLuXqplJ",
        "outputId": "528e8d36-ef0d-4460-b40d-4bd24a305a91"
      },
      "execution_count": 13,
      "outputs": [
        {
          "output_type": "stream",
          "name": "stdout",
          "text": [
            "enter number of rows:4\n",
            "[[1], [1, 1], [1, 2, 1], [1, 3, 3, 1]]\n"
          ]
        }
      ]
    },
    {
      "cell_type": "code",
      "source": [
        "##"
      ],
      "metadata": {
        "id": "6yBFzCTGr3ga"
      },
      "execution_count": null,
      "outputs": []
    },
    {
      "cell_type": "code",
      "source": [
        "##2nd Method try\n",
        "n=4\n",
        "mylist=[1]\n",
        "for i in range(0,n):\n",
        "  for j in range(0,i+1):\n",
        "    if(i==j or j==0):\n",
        "      print(\"1\", end=\"  \")\n",
        "    else:\n",
        "      print(j+1,end=\" \")\n",
        "\n",
        "  print()"
      ],
      "metadata": {
        "colab": {
          "base_uri": "https://localhost:8080/"
        },
        "id": "CImHNup-rrXn",
        "outputId": "e2f7b1f1-cf72-4d44-da32-3303409804e2"
      },
      "execution_count": 25,
      "outputs": [
        {
          "output_type": "stream",
          "name": "stdout",
          "text": [
            "1  \n",
            "1  1  \n",
            "1  2 1  \n",
            "1  2 3 1  \n"
          ]
        }
      ]
    },
    {
      "cell_type": "code",
      "source": [
        "##2nd method by sir\n",
        "mylist=[]\n",
        "n=int(input(\"enter the row:\"))\n",
        "for i in range(0,n):\n",
        "  temp=[]\n",
        "  for j in range(0,i+1):\n",
        "    if(j==0 or j==i):\n",
        "      temp.append(1)\n",
        "    else:\n",
        "      temp.append(mylist[i-1][j-1]+ mylist[i-1][j])\n",
        "  mylist.append(temp)\n",
        "\n",
        "print(mylist, end=\" \")\n"
      ],
      "metadata": {
        "colab": {
          "base_uri": "https://localhost:8080/"
        },
        "id": "H-fBPdUMuNE2",
        "outputId": "750d1eec-c86b-4464-c44a-f934e2012299"
      },
      "execution_count": 32,
      "outputs": [
        {
          "output_type": "stream",
          "name": "stdout",
          "text": [
            "enter the row:5\n",
            "[[1], [1, 1], [1, 2, 1], [1, 3, 3, 1], [1, 4, 6, 4, 1]] "
          ]
        }
      ]
    },
    {
      "cell_type": "code",
      "source": [
        "###homework==> hackerank"
      ],
      "metadata": {
        "id": "pwBfOvtUzPVf"
      },
      "execution_count": null,
      "outputs": []
    },
    {
      "cell_type": "code",
      "source": [
        "mylist = []\n",
        "n = int(input(\"Enter the number of rows: \"))\n",
        "\n",
        "for i in range(0,n):\n",
        "    temp = []\n",
        "    for j in range(0,i+1):\n",
        "        if j == 0 or j == i:\n",
        "            temp.append(1)\n",
        "        else:\n",
        "            temp.append(mylist[i-1][j-1] + mylist[i-1][j])\n",
        "    mylist.append(temp)\n",
        "\n",
        "for i in range(n):\n",
        "    print(\" \" * (n-i),end=' ')\n",
        "    for j in range(i+1):\n",
        "        print(mylist[i][j], end=' ')\n",
        "    print()\n"
      ],
      "metadata": {
        "colab": {
          "base_uri": "https://localhost:8080/"
        },
        "id": "JGA9EffI6Ypg",
        "outputId": "321f8041-d146-48ab-d6b4-014ecb9820f6"
      },
      "execution_count": 38,
      "outputs": [
        {
          "output_type": "stream",
          "name": "stdout",
          "text": [
            "Enter the number of rows: 7\n",
            "        1 \n",
            "       1 1 \n",
            "      1 2 1 \n",
            "     1 3 3 1 \n",
            "    1 4 6 4 1 \n",
            "   1 5 10 10 5 1 \n",
            "  1 6 15 20 15 6 1 \n"
          ]
        }
      ]
    }
  ]
}