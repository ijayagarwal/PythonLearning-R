{
  "nbformat": 4,
  "nbformat_minor": 0,
  "metadata": {
    "colab": {
      "provenance": []
    },
    "kernelspec": {
      "name": "python3",
      "display_name": "Python 3"
    },
    "language_info": {
      "name": "python"
    }
  },
  "cells": [
    {
      "cell_type": "code",
      "execution_count": 3,
      "metadata": {
        "colab": {
          "base_uri": "https://localhost:8080/"
        },
        "id": "R8bq-N1-gNWS",
        "outputId": "02faa894-18f9-4b89-baed-2bd6434f94df"
      },
      "outputs": [
        {
          "output_type": "stream",
          "name": "stdout",
          "text": [
            "before function 10 20\n",
            "with function 20 10\n",
            "after function 10 20\n"
          ]
        }
      ],
      "source": [
        "x=10\n",
        "y=20\n",
        "\n",
        "def swapnumber(x,y):\n",
        "  temp=x\n",
        "  x=y\n",
        "  y=temp\n",
        "  print(\"with function\",x,y)\n",
        "\n",
        "print(\"before function\",x,y)\n",
        "swapnumber(x,y)\n",
        "print(\"after function\",x,y)"
      ]
    },
    {
      "cell_type": "code",
      "source": [
        "mylist=[10,20]\n",
        "def func(list1):\n",
        "  print(\"11\",list1)\n",
        "\n",
        "func(mylist)\n"
      ],
      "metadata": {
        "colab": {
          "base_uri": "https://localhost:8080/"
        },
        "id": "p68tRDRbjZ4i",
        "outputId": "a64ef057-68b9-4fcc-fe6d-20d9545defe0"
      },
      "execution_count": 4,
      "outputs": [
        {
          "output_type": "stream",
          "name": "stdout",
          "text": [
            "11 [10, 20]\n"
          ]
        }
      ]
    },
    {
      "cell_type": "code",
      "source": [
        "mylist=[10,20]\n",
        "def func(list1):\n",
        "  print(\"11\",list1)\n",
        "  list1[0]=1000\n",
        "  print(\"after change in func\",list1)\n",
        "\n",
        "func(mylist)\n"
      ],
      "metadata": {
        "id": "zgXvtUCRj5z3"
      },
      "execution_count": null,
      "outputs": []
    },
    {
      "cell_type": "markdown",
      "source": [
        "if data type is immutable then changes in local will seperate from global variable"
      ],
      "metadata": {
        "id": "gDegzd5ukCfz"
      }
    },
    {
      "cell_type": "markdown",
      "source": [
        "whereas, if we do changes in global or local variable in mutable datatype it will change in both of the things."
      ],
      "metadata": {
        "id": "srD-6TYTkJjT"
      }
    },
    {
      "cell_type": "code",
      "source": [
        "def addNo(n):\n",
        "  print(n*1.5)\n",
        "  return n*1.5\n",
        "\n",
        "out=addNo(40)\n",
        "print(out)"
      ],
      "metadata": {
        "colab": {
          "base_uri": "https://localhost:8080/"
        },
        "id": "F39A1b4rkI5o",
        "outputId": "8ed2d98c-41a1-4f80-e643-026910357e61"
      },
      "execution_count": 5,
      "outputs": [
        {
          "output_type": "stream",
          "name": "stdout",
          "text": [
            "60.0\n",
            "60.0\n"
          ]
        }
      ]
    },
    {
      "cell_type": "code",
      "source": [
        "def addNo(n):\n",
        "  if n%2==0:\n",
        "    return True\n",
        "  else:\n",
        "    return False\n",
        "out=addNo(40)\n",
        "print(\"out\",out)"
      ],
      "metadata": {
        "colab": {
          "base_uri": "https://localhost:8080/"
        },
        "id": "TvmI8ymHmQft",
        "outputId": "25c2c934-ddc3-4f8d-8f6d-1e33bd756816"
      },
      "execution_count": 10,
      "outputs": [
        {
          "output_type": "stream",
          "name": "stdout",
          "text": [
            "out True\n"
          ]
        }
      ]
    },
    {
      "cell_type": "code",
      "source": [
        "#return is used to exit from the function"
      ],
      "metadata": {
        "id": "HDky7qbNmten"
      },
      "execution_count": null,
      "outputs": []
    },
    {
      "cell_type": "code",
      "source": [
        "def func():\n",
        "  return 0\n",
        "  return 10/0\n",
        "\n",
        "func()"
      ],
      "metadata": {
        "colab": {
          "base_uri": "https://localhost:8080/"
        },
        "id": "NKt6CIKbnMEt",
        "outputId": "ce0b85eb-c01e-4ff7-ae1d-60cfc6289df6"
      },
      "execution_count": 11,
      "outputs": [
        {
          "output_type": "execute_result",
          "data": {
            "text/plain": [
              "0"
            ]
          },
          "metadata": {},
          "execution_count": 11
        }
      ]
    },
    {
      "cell_type": "code",
      "source": [
        "def fun(n:str):\n",
        "  print(n)\n",
        "\n",
        "fun(10)"
      ],
      "metadata": {
        "colab": {
          "base_uri": "https://localhost:8080/"
        },
        "id": "PDuPmGzZnVqB",
        "outputId": "015fef69-5054-45ad-a450-8b123a6ebe6a"
      },
      "execution_count": 15,
      "outputs": [
        {
          "output_type": "stream",
          "name": "stdout",
          "text": [
            "10\n"
          ]
        }
      ]
    },
    {
      "cell_type": "code",
      "source": [
        "#here n:str is not declaring that n is string\n",
        "# it is the way of software to tell what we should\n",
        "#fill in function it is not compulsory"
      ],
      "metadata": {
        "id": "Gm2efUiBoCL7"
      },
      "execution_count": 16,
      "outputs": []
    },
    {
      "cell_type": "code",
      "source": [
        "#python is dynamically type programming language"
      ],
      "metadata": {
        "id": "nSjkOCx-oGIp"
      },
      "execution_count": null,
      "outputs": []
    },
    {
      "cell_type": "code",
      "source": [
        "def fun(n:list[str]):\n",
        "  print(n)\n",
        "\n",
        "fun(10)"
      ],
      "metadata": {
        "colab": {
          "base_uri": "https://localhost:8080/"
        },
        "id": "O6R2NgBdofXY",
        "outputId": "c47c55d4-f4f5-430c-eb36-a7865ebc7a32"
      },
      "execution_count": 18,
      "outputs": [
        {
          "output_type": "stream",
          "name": "stdout",
          "text": [
            "10\n"
          ]
        }
      ]
    },
    {
      "cell_type": "code",
      "source": [
        "# #what we read till here=>\n",
        "# type of argument passing\n",
        "# return\n",
        "# type hinting\n",
        "# global variable"
      ],
      "metadata": {
        "id": "qPtTOChSonfh"
      },
      "execution_count": null,
      "outputs": []
    },
    {
      "cell_type": "code",
      "source": [
        "#below questions are important from interview perspective=>"
      ],
      "metadata": {
        "id": "77zcPMBAozTJ"
      },
      "execution_count": null,
      "outputs": []
    },
    {
      "cell_type": "markdown",
      "source": [
        "Properties of first class functions:\n",
        "\n",
        "A function is an instance of the Object type.\n",
        "You can store the function in a variable.\n",
        "You can pass the function as a parameter to another function.\n",
        "You can return the function from a function.\n",
        "You can store them in data structures such as hash tables, lists,"
      ],
      "metadata": {
        "id": "yb_0SS6CpCIe"
      }
    },
    {
      "cell_type": "code",
      "source": [],
      "metadata": {
        "id": "CprDU6HIpAih"
      },
      "execution_count": null,
      "outputs": []
    },
    {
      "cell_type": "code",
      "source": [
        "##first class functions\n",
        "\n",
        "def func():\n",
        "  print(\"Hello\")\n",
        "print(func)\n",
        "out=func\n",
        "print(out)\n",
        "out()"
      ],
      "metadata": {
        "colab": {
          "base_uri": "https://localhost:8080/"
        },
        "id": "3ifsnSU5pzsu",
        "outputId": "6d3422c0-8293-4367-fe02-1e587470f3dd"
      },
      "execution_count": 19,
      "outputs": [
        {
          "output_type": "stream",
          "name": "stdout",
          "text": [
            "<function func at 0x7ba7563e9000>\n",
            "<function func at 0x7ba7563e9000>\n",
            "Hello\n"
          ]
        }
      ]
    },
    {
      "cell_type": "code",
      "source": [
        "## the above code is running because of the code\n",
        "## by reference value\n",
        "\n",
        "# assign krte waqt bracket nhi lgana hai."
      ],
      "metadata": {
        "id": "awrSEAO0qxmU"
      },
      "execution_count": 23,
      "outputs": []
    },
    {
      "cell_type": "code",
      "source": [
        "#first class functions\n",
        "##first class functions\n",
        "\n",
        "def func():\n",
        "  print(\"Hello\")\n",
        "print(func)\n",
        "out=func\n",
        "print(out)\n",
        "\n",
        "\n",
        "mylist=[0,out]\n",
        "print(mylist[1]())\n"
      ],
      "metadata": {
        "colab": {
          "base_uri": "https://localhost:8080/"
        },
        "id": "Dwyq8aNbrVxe",
        "outputId": "7ccf1cdc-9d91-4114-a668-e21a645852b3"
      },
      "execution_count": 27,
      "outputs": [
        {
          "output_type": "stream",
          "name": "stdout",
          "text": [
            "<function func at 0x7ba71f773520>\n",
            "<function func at 0x7ba71f773520>\n",
            "Hello\n"
          ]
        }
      ]
    },
    {
      "cell_type": "code",
      "source": [
        "#first class functions\n",
        "##first class functions\n",
        "\n",
        "def func():\n",
        "\n",
        "  return \"Hello\"\n",
        "print(func)\n",
        "out=func\n",
        "print(out)\n",
        "\n",
        "mylist=[0,func]\n",
        "print(mylist[1]())\n"
      ],
      "metadata": {
        "id": "6_sXZBdCsXGW"
      },
      "execution_count": null,
      "outputs": []
    },
    {
      "cell_type": "code",
      "source": [
        "##leetcode question\n",
        "## valid anagram 242\n",
        "\n",
        "s=\"tara\"\n",
        "t=\"rtaa\"\n",
        "dicts={}\n",
        "dictt={}\n",
        "for i in range(len(s)):\n",
        "  if s not in dicts:\n",
        "    dicts\n"
      ],
      "metadata": {
        "id": "FZdK9SPTsZmd"
      },
      "execution_count": 38,
      "outputs": []
    },
    {
      "cell_type": "code",
      "source": [],
      "metadata": {
        "id": "7noGOv8rzZqV"
      },
      "execution_count": null,
      "outputs": []
    },
    {
      "cell_type": "code",
      "source": [
        "# # leet code solution of valid amalgam problem no. 242\n",
        "\n",
        "class Solution:\n",
        "    def isAnagram(self, s: str, t: str) -> bool:\n",
        "        if sorted(s)==sorted(t):\n",
        "            return True\n",
        "        else:\n",
        "            return False\n",
        "    isAnagram()\n",
        ""
      ],
      "metadata": {
        "id": "jIFoTf3KzLsN"
      },
      "execution_count": 37,
      "outputs": []
    },
    {
      "cell_type": "code",
      "source": [
        "#solve this same problem by dictionary and list\n",
        "#method."
      ],
      "metadata": {
        "id": "E9M_oHOH07Ls"
      },
      "execution_count": null,
      "outputs": []
    },
    {
      "cell_type": "code",
      "source": [
        "# link list\n",
        "# arrays\n",
        "# stack"
      ],
      "metadata": {
        "id": "QbJzarcZ1Mjs"
      },
      "execution_count": null,
      "outputs": []
    },
    {
      "cell_type": "code",
      "source": [
        "#leet code problem 344 reverse string"
      ],
      "metadata": {
        "id": "VZK4OjHl35Yi"
      },
      "execution_count": null,
      "outputs": []
    },
    {
      "cell_type": "code",
      "source": [
        "s = [\"h\",\"e\",\"l\",\"l\",\"o\"]\n",
        "for i in range(len(s)//2):\n",
        "            s[i], s[~i] = s[~i], s[i]\n",
        "print(s)"
      ],
      "metadata": {
        "colab": {
          "base_uri": "https://localhost:8080/"
        },
        "id": "vUOQUuXt5WKg",
        "outputId": "116c2b7f-3746-45ee-fbae-57774c02442c"
      },
      "execution_count": 39,
      "outputs": [
        {
          "output_type": "stream",
          "name": "stdout",
          "text": [
            "['o', 'l', 'l', 'e', 'h']\n"
          ]
        }
      ]
    },
    {
      "cell_type": "code",
      "source": [
        "s = [\"h\",\"e\",\"l\",\"l\",\"o\"]\n",
        "for i in range(len(s)//2):\n",
        "            temp=s[i]\n",
        "            s[i]=s[-1-i]\n",
        "            s[-1-i]=temp\n",
        "print(s)"
      ],
      "metadata": {
        "colab": {
          "base_uri": "https://localhost:8080/"
        },
        "id": "bdF8zcrX5jzB",
        "outputId": "f422b404-3307-41b9-c83c-49183c494c5b"
      },
      "execution_count": 40,
      "outputs": [
        {
          "output_type": "stream",
          "name": "stdout",
          "text": [
            "['o', 'l', 'l', 'e', 'h']\n"
          ]
        }
      ]
    },
    {
      "cell_type": "code",
      "source": [
        "##solve problem of valid palindrome of leetcode\n",
        "## leetcode problem no. 205 ismorphic\n",
        "## valid parenthesis\n",
        "# reverse string\n",
        "\n",
        "\n",
        "# most important part is list and string\n",
        "# after that stack and cube and d cube"
      ],
      "metadata": {
        "id": "L3kRd4i47IDG"
      },
      "execution_count": null,
      "outputs": []
    }
  ]
}